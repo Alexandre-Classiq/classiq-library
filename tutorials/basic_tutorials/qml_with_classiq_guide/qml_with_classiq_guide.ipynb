{
 "cells": [
  {
   "cell_type": "markdown",
   "id": "c0443e31-8571-4b47-91cc-1f2df618d0a7",
   "metadata": {},
   "source": [
    "# Quantum Machine Learning with Classiq"
   ]
  },
  {
   "cell_type": "markdown",
   "id": "be6ccf91-07a9-42a3-8945-33353d608ab3",
   "metadata": {},
   "source": [
    "Welcome to the \"Quantum Machine Learning with Classiq\" tutorial. This guide is designed for users already familiar with the fundamentals of the Classiq platform and Quantum Machine Learning (QML) concepts. The aim is to showcase how to implement QML using Classiq. It covers three main methods to implement QML with Classiq:\n",
    "\n",
    "1. **Using the VQE Primitive**\n",
    "2. **Using the PyTorch Integration**\n",
    "3. **Using the QSVM Built-in App**\n",
    "\n",
    "Each section briefly explains the method, followed by an illustrative example that demonstrates the integration. These examples are intended to be straightforward to help you get started quickly."
   ]
  },
  {
   "cell_type": "markdown",
   "id": "79d121a7",
   "metadata": {},
   "source": [
    "## In This Tutorial\n",
    "\n",
    "1. [Using the VQE Primitive](#Using-the-VQE-Primitive)\n",
    "   * [Example Using Classiq](#Example-Using-Classiq)\n",
    "   * [Summary and Exercise](#summary-exercise-vqe)\n",
    "   * [Read More](#read-more-vqe)\n",
    "2. [Using the PyTorch Integration](#Using-the-PyTorch-Integration)\n",
    "   * [Workflow](#Workflow)\n",
    "   * [Example - Demonstrate PyTorch Integration with Classiq](#example-code-demonstrating-pytorch-integration-with-classiq)\n",
    "       * [Step 1.1 - Define the Quantum Model and Synthesize It into a Quantum Program](#step-11---define-the-quantum-model-and-synthesize-it-into-a-quantum-program)\n",
    "       * [Step 1.2 - Define the Execute and Post-process Callables](#step-12---define-the-execute-and-post-process-callables)\n",
    "       * [Step 1.3 - Create a torch.nn.Module Network](#step-13---create-a-torchnnmodule-network)\n",
    "   * [Step 2 - Choose a Dataset, Loss Function, and Optimizer](#step-2---choose-a-dataset-loss-function-and-optimizer)\n",
    "   * [Step 3 - Train and Evaluate](#step-3-train)\n",
    "   * [Summary and Exercise](#summary-exercise-pytorch)\n",
    "   * [Read More](#read-more-pytorch)\n",
    "3. [Using QSVM Primitive](#Using-QSVM-Primitive)\n"
   ]
  },
  {
   "cell_type": "markdown",
   "id": "575dc088-c6f5-4d5f-91ca-4fa395e8fb40",
   "metadata": {},
   "source": []
  },
  {
   "cell_type": "markdown",
   "id": "94f8ade7-b39d-497f-9552-fb323301d5bc",
   "metadata": {},
   "source": [
    "## Using the VQE Primitive"
   ]
  },
  {
   "cell_type": "markdown",
   "id": "cc776461-208d-49c9-8072-187cbaf47dd3",
   "metadata": {},
   "source": [
    "The Variational Quantum Eigensolver (VQE) is an algorithm for finding the ground state energy of a Hamiltonian operator, often described by Pauli operators or in the equivalent matrix form. The VQE was proposed in 2014 [[1](#eigenvaluesolver)]. \n",
    "\n",
    "The algorithm follows these steps:\n",
    "\n",
    "1. **Create a Parameterized Quantum Model**: Design a quantum model, also known as an ansatz, that captures the problem.\n",
    "2. **Synthesize, Execute, and Estimate Expectation Values**: Synthesize the quantum model into a quantum program. Run the quantum program, then measure and calculate the expected value of the Hamiltonian based on this generated program.\n",
    "3. **Optimize Parameters**: Use a classical optimizer to adjust the quantum program's parameters for better results.\n",
    "4. **Repeat**: Continue this process until the algorithm converges to a solution or reaches a specified number of iterations.\n",
    "\n",
    "For more details, refer to this review article [[2](#vqa)] and the corresponding preprint [[3](#preprint)]."
   ]
  },
  {
   "cell_type": "markdown",
   "id": "916ae61c-07a0-4599-909c-38e9e3134e79",
   "metadata": {},
   "source": [
    "### Example Using Classiq"
   ]
  },
  {
   "cell_type": "markdown",
   "id": "1e72b9f7-26cc-4eb9-8c47-5cac4517ac21",
   "metadata": {},
   "source": [
    "Start with this example, creating a VQE algorithm that estimates the minimal eigenvalue of the following 2x2 Hamiltonian:\n",
    "\n",
    "\\begin{equation}\n",
    "H = \\frac{1}{2}I + \\frac{1}{2}Z - X = \\begin{bmatrix} 1 & -1 \\\\ -1 & 0 \\end{bmatrix}\n",
    "\\end{equation}"
   ]
  },
  {
   "cell_type": "markdown",
   "id": "1220c83f-5bb0-4bae-83d6-f23f59f58725",
   "metadata": {},
   "source": [
    "Define the Hamiltonian using a `PauliTerm` list:"
   ]
  },
  {
   "cell_type": "code",
   "execution_count": 1,
   "id": "aacdd2c8-b92e-4cfa-8314-ff4a9d2a5fef",
   "metadata": {},
   "outputs": [],
   "source": [
    "from typing import List\n",
    "\n",
    "from classiq import *\n",
    "\n",
    "HAMILTONIAN = 0.5 * Pauli.I(0) + 0.5 * Pauli.Z(0) + (-1) * Pauli.X(0)"
   ]
  },
  {
   "cell_type": "markdown",
   "id": "06b71cb8-8969-4b79-bbb3-8fdb746977a5",
   "metadata": {},
   "source": [
    "For a single qubit problem, to capture any rotation on the Bloch sphere, use the U-gate (also known as the U3-gate). This includes the state with the minimal energy with respect to the Hamiltonian."
   ]
  },
  {
   "cell_type": "markdown",
   "id": "2bdb3628-20ce-4a84-b3f6-d9d0bf05866d",
   "metadata": {},
   "source": [
    "<details>\n",
    "<summary> NOTE on U-gate</summary>\n",
    "    \n",
    "The single-qubit gate applies phase and rotation with three Euler angles.\n",
    "\n",
    "Matrix representation:\n",
    "\n",
    "\\begin{equation}\n",
    "U(\\gamma,\\phi,\\theta,\\lambda) = e^{i\\gamma}\\begin{pmatrix}\n",
    "\\cos(\\frac{\\theta}{2}) & -e^{i\\lambda}\\sin(\\frac{\\theta}{2}) \\\\\n",
    "e^{i\\phi}\\sin(\\frac{\\theta}{2}) & e^{i(\\phi+\\lambda)}\\cos(\\frac{\\theta}{2}) \\\\\n",
    "\\end{pmatrix}\n",
    "\\end{equation}\n",
    "\n",
    "Parameters:\n",
    "\n",
    "- `theta`: `CReal`\n",
    "- `phi`: `CReal`\n",
    "- `lam`: `CReal`\n",
    "- `gam`: `CReal`\n",
    "- `target`: `QBit`\n",
    "\n",
    "</details>"
   ]
  },
  {
   "cell_type": "code",
   "execution_count": 2,
   "id": "e99e3173-0f36-4ad1-91e0-766fa680b2cc",
   "metadata": {},
   "outputs": [],
   "source": [
    "@qfunc\n",
    "def main(q: Output[QBit], angles: CArray[CReal, 3]) -> None:\n",
    "    allocate(q)\n",
    "    U(angles[0], angles[1], angles[2], 0, q)"
   ]
  },
  {
   "cell_type": "markdown",
   "id": "08d3d28d-4a55-4b25-9f53-df0b163f8a08",
   "metadata": {},
   "source": [
    "To seamlessly harness the power of VQE, synthesize the ansatz `main`, and use the `minimize` attribute from `ExecutionSession` to optimize it."
   ]
  },
  {
   "cell_type": "code",
   "execution_count": 3,
   "id": "452706db-e41f-4d02-93aa-722c3b652267",
   "metadata": {},
   "outputs": [],
   "source": [
    "write_qmod(main, \"vqe_primitive\")\n",
    "qprog_1 = synthesize(main)\n",
    "\n",
    "\n",
    "with ExecutionSession(qprog_1) as es:\n",
    "    result = es.minimize(\n",
    "        cost_function=HAMILTONIAN,\n",
    "        initial_params={\"angles\": [0.0] * 3},\n",
    "        max_iteration=200,\n",
    "    )"
   ]
  },
  {
   "cell_type": "markdown",
   "id": "897f3af3-e918-4d97-b664-ff9250af92a7",
   "metadata": {},
   "source": [
    "<details>\n",
    "<summary>Description of ExecutionSession Minimize Parameters</summary>\n",
    "\n",
    "Configure the `minimize` function in the `ExecutionSession` workflow with these parameters:\n",
    "\n",
    "- **cost_function**: The cost function to minimize, it can be either a quantum a quantum cost function specified by a Hamiltonian or a classical function that is represented as a callable and returns a Qmod expression.\n",
    "\n",
    "- **initial_params**: Initial parameters for the optimization routine. It accepts only a single parameter and should be formatted as a dict in the form {\"parameter\": list}.\n",
    "\n",
    "- **max_iteration**: The maximum number of iterations for the optimizer.\n",
    "\n",
    "- **quantile**: The quantile-based cutoff for which outcomes to consider when estimating the cost function.\n",
    "\n",
    "\n",
    "The output will be a list of dicts, containing the `float` values of the cost function and its respective parameters.\n",
    "</details>\n"
   ]
  },
  {
   "cell_type": "markdown",
   "id": "7810e23f-40ba-4689-804c-e0d201e8c7b6",
   "metadata": {},
   "source": [
    "At this stage, it is possible to visualize the results of the quantum algorithm. For instance, a graph of Energy versus Iterations can be plotted to illustrate the convergence behavior of the algorithm."
   ]
  },
  {
   "cell_type": "code",
   "execution_count": 4,
   "id": "aa96096f-f2b3-4648-9958-f6c68749f00f",
   "metadata": {},
   "outputs": [
    {
     "data": {
      "image/png": "[encoded data removed]",
      "text/plain": [
       "<Figure size 1000x600 with 1 Axes>"
      ]
     },
     "metadata": {},
     "output_type": "display_data"
    }
   ],
   "source": [
    "import matplotlib.pyplot as plt\n",
    "\n",
    "cost_list = [term[0] for term in result]\n",
    "\n",
    "plt.figure(figsize=(10, 6))\n",
    "\n",
    "plt.plot(range(len(cost_list)), cost_list)\n",
    "\n",
    "plt.title(\"Cost function convergence\")\n",
    "plt.xlabel(\"Iteration\")\n",
    "plt.ylabel(\"Cost function value\")\n",
    "plt.show()"
   ]
  },
  {
   "cell_type": "markdown",
   "id": "b23861ce-d787-473b-9711-d1c672b862e4",
   "metadata": {},
   "source": [
    "When this is not necessary, it is possible to print only the final results:"
   ]
  },
  {
   "cell_type": "code",
   "execution_count": 5,
   "id": "f3bdc0d5-bd82-4797-b449-b7494101163b",
   "metadata": {},
   "outputs": [
    {
     "name": "stdout",
     "output_type": "stream",
     "text": [
      "Optimal energy: -0.62890625\n",
      "Optimal parameters: {'angles': [2.076354916155163, -0.05136489800462069, 0.08074820307349632]}\n"
     ]
    }
   ],
   "source": [
    "optimal_energy = result[-1][0]\n",
    "optimal_parameters = result[-1][1]\n",
    "\n",
    "print(f\"Optimal energy: {optimal_energy}\")\n",
    "print(f\"Optimal parameters: {optimal_parameters}\")"
   ]
  },
  {
   "cell_type": "markdown",
   "id": "21cb45dc",
   "metadata": {},
   "source": [
    "The VQE algorithm outputs these key results:\n",
    "\n",
    "- **Optimal energy**: The lowest energy found for the Hamiltonian, representing the ground state energy (minimal eigenvalue).\n",
    "- **Optimal parameters**: The parameters of the quantum program that achieve the optimal energy, corresponding to rotation angles in the U-gate.\n",
    "- **Eigenstate**: The quantum state associated with the optimal energy, given as probability amplitudes for the basis states."
   ]
  },
  {
   "cell_type": "markdown",
   "id": "aa811ce8-6423-43b9-a025-d5838b3dae59",
   "metadata": {},
   "source": [
    "### Summary and Exercise <a id=\"summary-exercise-vqe\"></a>"
   ]
  },
  {
   "cell_type": "markdown",
   "id": "50a87b02-a2b2-4b6f-8761-a0faa3cca817",
   "metadata": {},
   "source": [
    "You designed a parameterized quantum circuit capable of capturing a simple Hamiltonian. You initialized an `ExecutionSession` and used `minimize` to execute it, visualizing the results.\n"
   ]
  },
  {
   "cell_type": "markdown",
   "id": "851bafa6-0c1d-43f3-8b9b-a04a78d00a35",
   "metadata": {},
   "source": [
    "<details>\n",
    "<summary>Exercise - Two Qubits VQE</summary>\n",
    "\n",
    "Now, practice the implementation of a similar case to the previous example, but this time for two qubits, following the Hamiltonian:\n",
    "\n",
    "$$ H = \\frac{1}{2}I \\otimes I + \\frac{1}{2}Z \\otimes Z - X \\otimes X $$\n",
    "\n",
    "**Use the last example to implement and execute VQE for this Hamiltonian.**\n",
    "\n",
    "Code skeleton:\n",
    "\n",
    "```python\n",
    "HAMILTONIAN = QConstant(\"HAMILTONIAN\", List[PauliTerm], [...]) #TODO: Complete Hamiltonian\n",
    "\n",
    "@qfunc\n",
    "def main(...) -> None:\n",
    "    #TODO: Complete the function according to the instructions, choosing simple ansatz.\n",
    "\n",
    "qprog = synthesize(synthesize)\n",
    "show(qprog)\n",
    "\n",
    "with ExecutionSession(qprog_1) as es:\n",
    "    result = es.minimize(\n",
    "        cost_function=HAMILTONIAN,\n",
    "        initial_params={\"params\": [0.0] * n_params},\n",
    "        max_iteration=200,\n",
    "    )\n",
    "\n",
    "\n",
    "```\n",
    "</details>"
   ]
  },
  {
   "cell_type": "markdown",
   "id": "9919014e-eca3-4ceb-b7e3-82718f897d27",
   "metadata": {},
   "source": [
    "### Read More <a id=\"read-more-vqe\"></a>"
   ]
  },
  {
   "cell_type": "markdown",
   "id": "57fec245-7935-4882-a885-114cccaba393",
   "metadata": {},
   "source": [
    "Further reading from the reference manual:\n",
    "  - [Execution Primitives](https://docs.classiq.io/latest/user-guide/execution/ExecutionSession/)"
   ]
  },
  {
   "cell_type": "markdown",
   "id": "f8168ae6-71d4-4742-ad74-9a62d0185dd9",
   "metadata": {},
   "source": [
    "## Using the PyTorch Integration"
   ]
  },
  {
   "cell_type": "markdown",
   "id": "7061b342-bd57-4a3d-a12a-46dad279700c",
   "metadata": {},
   "source": [
    "Classiq integrates with PyTorch, enabling the seamless development of quantum machine learning and hybrid classical quantum machine learning models. This integration leverages PyTorch's powerful machine learning capabilities alongside quantum computing."
   ]
  },
  {
   "cell_type": "markdown",
   "id": "e36b9358-8ad1-4398-906e-18c2b8571181",
   "metadata": {},
   "source": [
    "<details>\n",
    "<summary>Note on PyTorch Installation:</summary>\n",
    "\n",
    "To properly install and run PyTorch locally, check [this page](https://pytorch.org/get-started/locally/).\n",
    "\n",
    "</details>\n"
   ]
  },
  {
   "cell_type": "markdown",
   "id": "5c920c1d-8e7a-4772-a027-354972c47cdb",
   "metadata": {},
   "source": [
    "### Workflow"
   ]
  },
  {
   "cell_type": "markdown",
   "id": "742d5cc6-7f7f-460f-a209-e99420ccaf1d",
   "metadata": {},
   "source": [
    "1. **Defining the Model**\n",
    "    - **1.1**: Define the quantum model and synthesize it into a quantum program.\n",
    "    - **1.2**: Define the execute and post-process callables.\n",
    "    - **1.3**: Create a `torch.nn.Module` network.\n",
    "2. **Choosing the Dataset, Loss Function, and Optimizer**\n",
    "3. **Training the Model**\n",
    "4. **Testing the Model**\n"
   ]
  },
  {
   "cell_type": "markdown",
   "id": "34738537-b13f-4354-8260-5ae4de3cbd21",
   "metadata": {},
   "source": [
    "If you are not familiar with PyTorch, read the following documentation:\n",
    "\n",
    "<details>\n",
    "<summary>PyTorch Documentation</summary>\n",
    "\n",
    "- [Creating Models](https://pytorch.org/tutorials/beginner/basics/quickstart_tutorial.html#creating-models)\n",
    "- [Building Neural Networks](https://pytorch.org/tutorials/beginner/basics/buildmodel_tutorial.html)\n",
    "- [Optimizing Model Parameters](https://pytorch.org/tutorials/beginner/basics/quickstart_tutorial.html#optimizing-the-model-parameters)\n",
    "- [Tensors](https://pytorch.org/tutorials/beginner/basics/tensorqs_tutorial.html)\n",
    "- [Datasets and DataLoaders](https://pytorch.org/tutorials/beginner/basics/data_tutorial.html)\n",
    "\n",
    "</details>\n"
   ]
  },
  {
   "cell_type": "markdown",
   "id": "2bfed1ec-c4e9-4a28-80a7-16a17563997c",
   "metadata": {},
   "source": [
    "### Example - Demonstrate PyTorch Integration with Classiq <a id=\"example-code-demonstrating-pytorch-integration-with-classiq\"></a>"
   ]
  },
  {
   "cell_type": "markdown",
   "id": "34ad9043-6de9-44f1-8229-7cf74b183bf5",
   "metadata": {},
   "source": [
    "This example demonstrates PyTorch integration using a simple parameterized quantum model.\n",
    "\n",
    "It utilizes one input from the user and one weight, while using one qubit in the model. The goal of the learning process is to determine the correct angle for an RX gate to perform a \"NOT\" operation. (Spoiler alert: The correct answer is $\\pi$.)\n"
   ]
  },
  {
   "cell_type": "markdown",
   "id": "87ccc6e8-68e9-4b28-8d97-cb5a63122a89",
   "metadata": {},
   "source": [
    "The dataset `DATALOADER_NOT` is used, as defined [here](https://docs.classiq.io/latest/user-guide/applications/qml/qnn/datasets/). \n",
    "`DatasetXor` is also available from the link for further practice."
   ]
  },
  {
   "cell_type": "code",
   "execution_count": 6,
   "id": "04c75f8a-cae9-420c-8ca5-d47baeef2a77",
   "metadata": {},
   "outputs": [
    {
     "name": "stdout",
     "output_type": "stream",
     "text": [
      "--> Data for training:\n",
      "tensor([[0.0000],\n",
      "        [3.1416]])\n",
      "--> Corresponding labels:\n",
      "tensor([0., 1.])\n"
     ]
    }
   ],
   "source": [
    "from classiq import *\n",
    "from classiq.applications.qnn.datasets import DATALOADER_NOT\n",
    "\n",
    "for data, label in DATALOADER_NOT:\n",
    "    print(f\"--> Data for training:\\n{data}\")\n",
    "    print(f\"--> Corresponding labels:\\n{label}\")"
   ]
  },
  {
   "cell_type": "markdown",
   "id": "9f80bf89-5c59-4710-98f6-c57ca3bdeeb7",
   "metadata": {},
   "source": [
    "This dataset contains two items. The first item indicates no rotation (`0.0000`) and is labeled as 0, indicating the state $|0\\rangle$. The second item indicates a rotation of `3.1416` and is labeled as 1, indicating the state $|1\\rangle$."
   ]
  },
  {
   "cell_type": "markdown",
   "id": "0810d013-3f50-4574-9746-9de0220ec141",
   "metadata": {},
   "source": [
    "Read an explanation on creating PyTorch datasets here: \n",
    "- [Creating a custom dataset for your files](https://pytorch.org/tutorials/beginner/basics/data_tutorial.html#creating-a-custom-dataset-for-your-files)\n",
    "- [Writing custom datasets, dataLoaders, and transforms](https://pytorch.org/tutorials/beginner/data_loading_tutorial.html)"
   ]
  },
  {
   "cell_type": "markdown",
   "id": "5fd04a97-8aff-4c7f-9908-511943f47606",
   "metadata": {},
   "source": [
    "##### Step 1.1 - Define the Quantum Model and Synthesize It into a Quantum Program\n",
    "<a id=\"step-11-define-the-quantum-model-and-synthesize-it-into-a-quantum-program\"></a>"
   ]
  },
  {
   "cell_type": "markdown",
   "id": "2dbaa84b-719a-487d-9105-8f3002e4f078",
   "metadata": {},
   "source": [
    "The first part of the parameterized quantum model has an encoding section, which loads input data ($|0\\rangle$ or $|1\\rangle$) into the parameterized quantum model:\n"
   ]
  },
  {
   "cell_type": "code",
   "execution_count": 7,
   "id": "ca9449be-b5a9-492f-bbfe-889d7750fd75",
   "metadata": {},
   "outputs": [],
   "source": [
    "@qfunc\n",
    "def encoding(theta: CReal, q: QArray) -> None:\n",
    "    RX(theta=theta, target=q[0])"
   ]
  },
  {
   "cell_type": "markdown",
   "id": "fa656672-b3a1-477c-ad7c-821fe59cac3d",
   "metadata": {},
   "source": [
    "The second part is the `mixing` function, which includes an adjustable parameter for training the RX gate to act later as a NOT gate:"
   ]
  },
  {
   "cell_type": "code",
   "execution_count": 8,
   "id": "770ed76d-328b-4904-9f52-450bd72f33cb",
   "metadata": {},
   "outputs": [],
   "source": [
    "@qfunc\n",
    "def mixing(theta: CReal, q: QArray) -> None:\n",
    "    RX(theta=theta, target=q[0])"
   ]
  },
  {
   "cell_type": "markdown",
   "id": "5058d272-d6a9-4f34-a3a2-8087540a76ee",
   "metadata": {},
   "source": [
    "Combining the two functions into the `main` function:"
   ]
  },
  {
   "cell_type": "code",
   "execution_count": 9,
   "id": "be01385c-cbfd-4ca5-a158-424ae5184fa0",
   "metadata": {
    "editable": true,
    "slideshow": {
     "slide_type": ""
    },
    "tags": []
   },
   "outputs": [],
   "source": [
    "@qfunc\n",
    "def main(input_0: CReal, weight_0: CReal, res: Output[QArray]) -> None:\n",
    "    allocate(1, res)\n",
    "    encoding(theta=input_0, q=res)  # Loading input\n",
    "    mixing(theta=weight_0, q=res)  # Adjustable parameter"
   ]
  },
  {
   "cell_type": "markdown",
   "id": "849c178a-e7b4-433b-85d9-deb66b91a965",
   "metadata": {},
   "source": [
    "Finally, create a model, synthesize it, and display it in the IDE:"
   ]
  },
  {
   "cell_type": "code",
   "execution_count": 10,
   "id": "fa0b6996-52c5-42ad-b6a2-d1bdc174e04f",
   "metadata": {},
   "outputs": [
    {
     "name": "stdout",
     "output_type": "stream",
     "text": [
      "Quantum program link: https://platform.classiq.io/circuit/2zMxqr678qnz8gGTlndDwtpyXcT\n"
     ]
    }
   ],
   "source": [
    "write_qmod(main, \"qnn_with_pytorch\")\n",
    "qprog_2 = synthesize(main)\n",
    "show(qprog_2)"
   ]
  },
  {
   "cell_type": "markdown",
   "id": "52fb1cb2-e049-4f0e-89fd-62c11d31c063",
   "metadata": {},
   "source": [
    "##### Step 1.2 - Define the Execute and Postprocess Callables"
   ]
  },
  {
   "cell_type": "markdown",
   "id": "c693f2c4-4f92-4675-9ca7-885d60102832",
   "metadata": {},
   "source": [
    "Before using the quantum layer (QLayer), define the `execute` and `post-processing` functions. These functions are essential for integrating the quantum layer in a PyTorch neural network, as classical layers require classical data as input. This means that only after executing the QLayer (the ansatz) and post-processing the results the data can be further used in other layers of the neural network or be output."
   ]
  },
  {
   "cell_type": "markdown",
   "id": "7f078c72-dd56-4d3a-a47b-3da75c3b5d01",
   "metadata": {},
   "source": [
    "The `execute` function is straightforward. It takes the quantum program (here, the QLayer) and its parameters, and executes it:"
   ]
  },
  {
   "cell_type": "code",
   "execution_count": 11,
   "id": "de9f9b4f-6f2f-447f-8b58-bc99145ef2a6",
   "metadata": {},
   "outputs": [],
   "source": [
    "from classiq.applications.qnn.types import (\n",
    "    MultipleArguments,\n",
    "    ResultsCollection,\n",
    "    SavedResult,\n",
    ")\n",
    "\n",
    "\n",
    "def execute(\n",
    "    quantum_program: QuantumProgram, arguments: MultipleArguments\n",
    ") -> ResultsCollection:\n",
    "    return execute_qnn(quantum_program, arguments)"
   ]
  },
  {
   "cell_type": "markdown",
   "id": "09b6a96d-1518-4994-bb5b-621b41fb21bc",
   "metadata": {
    "editable": true,
    "slideshow": {
     "slide_type": ""
    },
    "tags": []
   },
   "source": [
    "In general, the `post_process` function is needed to prepare the execution results for output or for loss calculation during the training phase.\n",
    "\n",
    "In this specific example, it returns the probability of measuring $|0\\rangle$. This function assumes that only the differentiation between the single state $|0\\rangle$ and all other states is relevant. If a different differentiation is needed, modify this function accordingly."
   ]
  },
  {
   "cell_type": "code",
   "execution_count": 12,
   "id": "c6db0bf0-5096-4cd1-b6a6-de7f45772bc7",
   "metadata": {},
   "outputs": [],
   "source": [
    "import torch\n",
    "\n",
    "\n",
    "def post_process(result: SavedResult) -> torch.Tensor:\n",
    "    \"\"\"\n",
    "    Take in a `SavedResult` with `ExecutionDetails` value type, and return the\n",
    "    probability of measuring |0> which equals the amount of `|0>` measurements\n",
    "    divided by the total number of measurements.\n",
    "    \"\"\"\n",
    "    counts: dict = result.value.counts\n",
    "    # The probability of measuring |0>\n",
    "    p_zero: float = counts.get(\"0\", 0.0) / sum(counts.values())\n",
    "    return torch.tensor(p_zero)"
   ]
  },
  {
   "cell_type": "markdown",
   "id": "59a72dce-f2d7-42a3-8ed2-093531b07ea2",
   "metadata": {},
   "source": [
    "Using these functions allows QLayers and PyTorch layers to be properly integrated into the same neural network."
   ]
  },
  {
   "cell_type": "markdown",
   "id": "ee20d6eb-48d7-4a95-af95-fe5aedf89d7a",
   "metadata": {},
   "source": [
    "##### Step 1.3 - Create a torch.nn.Module Network"
   ]
  },
  {
   "cell_type": "markdown",
   "id": "4b75b97e-a692-467b-9838-03c97b90bac7",
   "metadata": {},
   "source": [
    "Define the `torch.nn.Module` class with a single `QLayer` as follows:"
   ]
  },
  {
   "cell_type": "code",
   "execution_count": 13,
   "id": "f30f2e2c-b326-4cec-bc2a-4dbc5c71e3d8",
   "metadata": {},
   "outputs": [],
   "source": [
    "from classiq.applications.qnn import QLayer\n",
    "\n",
    "\n",
    "class Net(torch.nn.Module):\n",
    "    def __init__(self, *args, **kwargs) -> None:\n",
    "        super().__init__()\n",
    "        self.qlayer = QLayer(\n",
    "            qprog_2,  # the quantum program, the result of `synthesize()`\n",
    "            execute,  # a callable that takes\n",
    "            # - a quantum program\n",
    "            # - parameters to that program (a tuple of dictionaries)\n",
    "            # and returns a `ResultsCollection`\n",
    "            post_process,  # a callable that takes\n",
    "            # - a single `SavedResult`\n",
    "            # and returns a `torch.Tensor`\n",
    "            *args,\n",
    "            **kwargs\n",
    "        )\n",
    "\n",
    "    def forward(self, x: torch.Tensor) -> torch.Tensor:\n",
    "        x = self.qlayer(x)\n",
    "        return x\n",
    "\n",
    "\n",
    "model = Net()"
   ]
  },
  {
   "cell_type": "markdown",
   "id": "190b8194-04c5-4bc1-b714-aa8ec8fb7624",
   "metadata": {},
   "source": [
    "In `self.qlayer = QLayer(...)`, define the only layer in the neural network as a single QLayer. Specify the previously defined `quantum_program`, `execute`, and `post_process` as arguments for the layer. Finally, create the neural network and assign it to the variable `model`."
   ]
  },
  {
   "cell_type": "markdown",
   "id": "fc4d20ec-7351-47c1-8c99-1c49fc6fa309",
   "metadata": {},
   "source": [
    "#### Step 2 - Choose a Dataset, Loss Function, and Optimizer"
   ]
  },
  {
   "cell_type": "markdown",
   "id": "dc8a77b3-1a86-436e-8c80-dac289dfe26f",
   "metadata": {},
   "source": [
    "For the loss function and optimizer, use [L1Loss](https://pytorch.org/docs/stable/generated/torch.nn.L1Loss.html) and [SGD](https://pytorch.org/docs/stable/generated/torch.optim.SGD.html), respectively."
   ]
  },
  {
   "cell_type": "code",
   "execution_count": 14,
   "id": "e4bbd2e6-1a46-46f0-84f3-60aefffa7e6f",
   "metadata": {},
   "outputs": [],
   "source": [
    "import torch.nn as nn\n",
    "import torch.optim as optim\n",
    "\n",
    "_LEARNING_RATE = 1\n",
    "\n",
    "# choosing the data\n",
    "data_loader = DATALOADER_NOT\n",
    "\n",
    "# choosing the loss function\n",
    "loss_func = nn.L1Loss()  # Mean Absolute Error (MAE)\n",
    "\n",
    "# choosing the optimizer\n",
    "optimizer = optim.SGD(model.parameters(), lr=_LEARNING_RATE)"
   ]
  },
  {
   "cell_type": "markdown",
   "id": "dae514b5-d12c-4c2c-b296-e402186c5c83",
   "metadata": {},
   "source": [
    "<details>\n",
    "<summary>Available Optimization Algorithms and Loss Functions</summary>\n",
    "\n",
    "For details of the optimization algorithms and a comprehensive list of loss functions in PyTorch, refer to the official documentation:\n",
    "\n",
    "- [Optimization Algorithms](https://pytorch.org/docs/stable/optim.html#algorithms)\n",
    "- [Loss Functions](https://pytorch.org/docs/stable/nn.html#loss-functions)\n",
    "\n",
    "</details>\n"
   ]
  },
  {
   "cell_type": "markdown",
   "id": "dfd7c28a-e241-4647-9aa3-1227696b70a6",
   "metadata": {},
   "source": [
    "#### Step 3 - Train and Evaluate <a id=\"step-3-train\"></a>"
   ]
  },
  {
   "cell_type": "markdown",
   "id": "38a39db7-7280-43f0-bed4-1177c216be0d",
   "metadata": {},
   "source": [
    "Import `DataLoader`:"
   ]
  },
  {
   "cell_type": "code",
   "execution_count": 15,
   "id": "52c25008-58dc-4558-85ce-e83257299d62",
   "metadata": {},
   "outputs": [],
   "source": [
    "from torch.utils.data import DataLoader"
   ]
  },
  {
   "cell_type": "markdown",
   "id": "1938f52e-f391-430c-bb8a-8473b138d78b",
   "metadata": {},
   "source": [
    "A `DataLoader` in PyTorch efficiently iterates over datasets, handling batching, shuffling, and parallel data loading. It streamlines the process of training and evaluating models by managing data efficiently."
   ]
  },
  {
   "cell_type": "markdown",
   "id": "79ac95f4-ba82-4d0f-889f-489708d1ab6b",
   "metadata": {},
   "source": [
    "Now you are ready to define the training function. \\\n",
    "This simple example follows a loop similar to that recommended by PyTorch [here](https://pytorch.org/tutorials/beginner/blitz/neural_networks_tutorial.html#update-the-weights).\n"
   ]
  },
  {
   "cell_type": "code",
   "execution_count": 16,
   "id": "43a24300-0d8e-4396-be34-e2b512a10c30",
   "metadata": {},
   "outputs": [],
   "source": [
    "def train(\n",
    "    model: nn.Module,\n",
    "    data_loader: DataLoader,\n",
    "    loss_func: nn.modules.loss._Loss,\n",
    "    optimizer: optim.Optimizer,\n",
    "    epoch: int = 5,  # About 40 epochs needed for full training\n",
    ") -> None:\n",
    "    for index in range(epoch):\n",
    "        print(index, model.qlayer.weight)\n",
    "        for data, label in data_loader:\n",
    "            optimizer.zero_grad()\n",
    "\n",
    "            output = model(data)\n",
    "\n",
    "            loss = loss_func(output, label)\n",
    "            loss.backward()\n",
    "            optimizer.step()"
   ]
  },
  {
   "cell_type": "markdown",
   "id": "0865ee4e-d5ec-4c45-9c2e-b6557da64d42",
   "metadata": {},
   "source": [
    "Here, trained parameters are loaded for demonstration, and only one epoch is performed.\\\n",
    "You may comment on the following cell, change the number of epochs above, and expect about 40 epochs for full training for non-trained parameters."
   ]
  },
  {
   "cell_type": "code",
   "execution_count": 17,
   "id": "a713e36e-9a85-41da-8d65-1bbd95fd53b5",
   "metadata": {},
   "outputs": [],
   "source": [
    "with torch.no_grad():\n",
    "    model.qlayer.weight.copy_(\n",
    "        torch.tensor([3])\n",
    "    )  # The value from the last step of the training"
   ]
  },
  {
   "cell_type": "code",
   "execution_count": 18,
   "id": "b7ada1cc-00b5-4bd2-9f9a-7a817def9cae",
   "metadata": {},
   "outputs": [
    {
     "name": "stdout",
     "output_type": "stream",
     "text": [
      "0 Parameter containing:\n",
      "tensor([3.], requires_grad=True)\n",
      "1 Parameter containing:\n",
      "tensor([3.0732], requires_grad=True)\n",
      "2 Parameter containing:\n",
      "tensor([3.0977], requires_grad=True)\n",
      "3 Parameter containing:\n",
      "tensor([3.1343], requires_grad=True)\n",
      "4 Parameter containing:\n",
      "tensor([3.1343], requires_grad=True)\n"
     ]
    }
   ],
   "source": [
    "train(model, data_loader, loss_func, optimizer)"
   ]
  },
  {
   "cell_type": "markdown",
   "id": "b3cc142a-8e49-438b-b8c2-15ec3aee0506",
   "metadata": {},
   "source": [
    "Great!Observe that the parameter is approximately equal to $\\pi$. \\\n",
    "Now, test the network accuracy using the suggested method [here](https://stackoverflow.com/questions/52176178/pytorch-model-accuracy-test#answer-64838681)."
   ]
  },
  {
   "cell_type": "code",
   "execution_count": 19,
   "id": "be0bec26-971f-4a4d-a647-6097cea6c58f",
   "metadata": {},
   "outputs": [],
   "source": [
    "def check_accuracy(model: nn.Module, data_loader: DataLoader, atol=1e-2) -> float:\n",
    "    num_correct = 0\n",
    "    total = 0\n",
    "    model.eval()\n",
    "\n",
    "    with torch.no_grad():  # Temporarily disable gradient calculation\n",
    "        for data, labels in data_loader:\n",
    "            # Let the model predict\n",
    "            predictions = model(data)\n",
    "\n",
    "            # Get a tensor of Booleans, indicating if each label is close to the real label\n",
    "            is_prediction_correct = predictions.isclose(labels, atol=atol)\n",
    "\n",
    "            # Count the number of `True` predictions\n",
    "            num_correct += is_prediction_correct.sum().item()\n",
    "            # Count the total evaluations\n",
    "            #   the first dimension of `labels` is `batch_size`\n",
    "            total += labels.size(0)\n",
    "\n",
    "    accuracy = float(num_correct) / float(total)\n",
    "    print(f\"Test Accuracy of the model: {accuracy*100:.2f}%\")\n",
    "    return accuracy"
   ]
  },
  {
   "cell_type": "code",
   "execution_count": 20,
   "id": "a859ed81-7d33-4ecc-9dd4-703e0bab2038",
   "metadata": {},
   "outputs": [
    {
     "name": "stdout",
     "output_type": "stream",
     "text": [
      "Test Accuracy of the model: 100.00%\n"
     ]
    },
    {
     "data": {
      "text/plain": [
       "1.0"
      ]
     },
     "execution_count": 20,
     "metadata": {},
     "output_type": "execute_result"
    }
   ],
   "source": [
    "check_accuracy(model, data_loader)"
   ]
  },
  {
   "cell_type": "markdown",
   "id": "7b19db90-b0dc-419e-86b9-7430fd6f368b",
   "metadata": {},
   "source": [
    "**The results show an accuracy of 1**, indicating a 100% success rate in performing the required transformation (i.e., the network learned to perform an X-gate). You can further validate this by printing the value of `model.qlayer.weight`, which is a tensor of shape (1,1). After training, this value should be close to $\\pi$."
   ]
  },
  {
   "cell_type": "markdown",
   "id": "1d4172de-a670-4945-9640-23abc8952831",
   "metadata": {},
   "source": [
    "### Summary and Exercise <a id=\"summary-exercise-pytorch\"></a>"
   ]
  },
  {
   "cell_type": "markdown",
   "id": "b23e05c7-8efb-495f-a79c-b317fc678e5d",
   "metadata": {},
   "source": [
    "In this tutorial, you integrated a quantum layer in a PyTorch neural network, defined the necessary execution and post-processing functions, and trained the model using a simple dataset. You tested the network's accuracy using a recommended method. To explore further, try experimenting with different quantum circuits, datasets, and optimizers. Integrating more classic layers or more complex layers should be straightforward now for those with experience in PyTorch."
   ]
  },
  {
   "cell_type": "markdown",
   "id": "0c7aa8d6-aac5-4050-9763-78755b4a8a1c",
   "metadata": {},
   "source": [
    "<details>\n",
    "<summary>Exercise - Training U Gate</summary>\n",
    "\n",
    "Now, for practice, implement a similar case to the last example, but this time train the U gate to act as a NOT gate instead of the Rx gate.  \n",
    "How many parameters must you train?  \n",
    "What must you change to accomplish this?\n",
    "\n",
    "<details>\n",
    "<summary>Hint</summary>\n",
    "    \n",
    "You only have to adapt `mixing` and `model`.\n",
    "\n",
    "</details>\n",
    "</details>\n"
   ]
  },
  {
   "cell_type": "markdown",
   "id": "0709fcea-210d-4aa1-b23b-e5a2df9547b1",
   "metadata": {},
   "source": [
    "### Read More \n",
    "<a id=\"read-more-pytorch\"></a>"
   ]
  },
  {
   "cell_type": "markdown",
   "id": "54e77712-9d79-4a54-87d4-20079485333a",
   "metadata": {},
   "source": [
    "Algorithms and application tutorials using the PyTorch integration:\n",
    "- [Quantum Autoencoder](https://docs.classiq.io/latest/explore/algorithms/qml/quantum_autoencoder/quantum_autoencoder/)\n",
    "- [QGAN](https://docs.classiq.io/latest/explore/algorithms/qml/qgan/qgan_bars_and_strips/)\n",
    "\n",
    "Further reading from the reference manual: \n",
    "- [QNNs with Classiq](https://docs.classiq.io/latest/user-guide/applications/qml/qnn/)\n",
    "- [QLayer](https://docs.classiq.io/latest/user-guide/applications/qml/qnn/qlayer/)"
   ]
  },
  {
   "cell_type": "markdown",
   "id": "96ea8e78-8edf-49b8-ab0e-ce90f782ea2e",
   "metadata": {},
   "source": [
    "## Using QSVM Primitive "
   ]
  },
  {
   "cell_type": "markdown",
   "id": "0e938c94-5752-4a3c-a704-0398d4c2266e",
   "metadata": {},
   "source": [
    "Classiq also enables executing classification tasks using the **Quantum Support Vector Machine** (QSVM) module. This module leverages the principles of quantum computing to enhance traditional support vector machine algorithms, offering significant improvements in classification accuracy and efficiency. The QSVM module integrates seamlessly with the Classiq platform, allowing you to implement quantum-enhanced classification models effortlessly. By utilizing quantum kernels, the QSVM can handle complex datasets and capture intricate patterns that may be challenging for classical SVMs, making it a powerful tool for machine learning applications.\n",
    "\n"
   ]
  },
  {
   "cell_type": "markdown",
   "id": "2d49d93a-779c-442c-a17e-31a9c7dc6fe3",
   "metadata": {},
   "source": [
    "To understand how to use it and explore it further, examine this example: [QSVM with Classiq](https://docs.classiq.io/latest/explore/algorithms/qml/qsvm/qsvm/)."
   ]
  },
  {
   "cell_type": "markdown",
   "id": "c3d56f17-8f77-42f7-9152-258291fa6175",
   "metadata": {},
   "source": [
    "## References"
   ]
  },
  {
   "cell_type": "markdown",
   "id": "93505053-3dee-4afe-ac91-6f56b7217f2d",
   "metadata": {},
   "source": [
    "<a id='eigenvaluesolver'>[1]</a>: [Peruzzo, A., McClean, J., Shadbolt, P., et al. (2014). A variational eigenvalue solver on a photonic quantum processor, *Nature Communications*](https://doi.org/10.1038/ncomms5213).\n",
    "\n",
    "<a id='vqa'>[2]</a>: [Cerezo, M., Arrasmith, A., Babbush, R., et al. (2021). Variational quantum algorithms, *Nature Reviews Physics*, 3, 625–644](https://doi.org/10.1038/s42254-021-00348-9).\n",
    "\n",
    "<a id='preprint'>[3]</a>: [Corresponding preprint arXiv:2104.02281](https://arxiv.org/abs/2104.02281).\n",
    "\n",
    "<a id='CVaR'>[4]</a>: [Barkoutsos, Panagiotis Kl., et al. (2020). Improving variational quantum optimization using CVaR, *Quantum* 4, 256](https://doi.org/10.22331/q-2020-04-20-256)."
   ]
  }
 ],
 "metadata": {
  "kernelspec": {
   "display_name": ".venv",
   "language": "python",
   "name": "python3"
  },
  "language_info": {
   "codemirror_mode": {
    "name": "ipython",
    "version": 3
   },
   "file_extension": ".py",
   "mimetype": "text/x-python",
   "name": "python",
   "nbconvert_exporter": "python",
   "pygments_lexer": "ipython3",
   "version": "3.11.9"
  }
 },
 "nbformat": 4,
 "nbformat_minor": 5
}
