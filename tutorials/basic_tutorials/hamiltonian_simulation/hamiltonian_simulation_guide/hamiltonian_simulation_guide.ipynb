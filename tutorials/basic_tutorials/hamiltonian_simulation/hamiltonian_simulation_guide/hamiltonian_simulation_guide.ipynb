{
 "cells": [
  {
   "cell_type": "markdown",
   "metadata": {},
   "source": [
    "# Hamiltonian Simulation"
   ]
  },
  {
   "cell_type": "markdown",
   "metadata": {},
   "source": [
    "Quantum Hamiltonian simulation is one of the most important problems in quantum computing. It consists of modeling the time evolution of a complex quantum system using more controllable devices; the quantum computers. Simulations of this type are essential to comprehend quantum systems that are described by complex dynamics, such as molecules in chemistry or materials in condensed matter physics, where classical computers fail due to the exponential scale up required by larger quantum systems.\n",
    "\n",
    "In this guide, you will be using Classiq to work with simple problems of Hamiltonian simulation using two different methods:\n",
    "\n",
    "* **Suzuki-Trotter decomposition**\n",
    "* **qDRIFT**\n",
    "\n",
    "Apart from these methods, known as **product formulas**, this guide also briefly discusses block-encoding methods and links to a specific guide on this topic."
   ]
  },
  {
   "cell_type": "markdown",
   "metadata": {},
   "source": [
    "## Table of Contents\n",
    "\n",
    "1. [Intoduction](#Intoduction)\n",
    "3. [Suzuki-Trotter decomposition](#Suzuki-Trotter-decomposition)\n",
    "    * [Exponentiation with depth constraint](#exponentiation-with-depth-constraint)\n",
    "4. [qDRIFT](#qDRIFT)\n",
    "5. [Hamiltonian simulation with block encoding](#Hamiltonian-simulation-with-block-encoding)\n",
    "6. [Measuring the expected magnetization as a function of time](#measuring-the-expected-magnetization-as-a-function-of-time)\n",
    "7. [Summary and Exercises](#summary-and-exercises)\n"
   ]
  },
  {
   "cell_type": "markdown",
   "metadata": {},
   "source": [
    "## Introduction"
   ]
  },
  {
   "cell_type": "markdown",
   "metadata": {},
   "source": [
    "Quantum Hamiltonian simulation has several significant applications. Some of them are directly related to physics and chemistry, while others extend to fields such as optimization and machine learning:\n",
    "\n",
    "* Quantum Chemistry: It helps predict the properties of molecules using quantum methods such as the Quantum Variational Eigensolver (VQE), which can be more efficient than classical methods in certain conditions.\n",
    "* Materials Science: It aids in designing new materials with desired properties by simulating their quantum mechanical behavior.\n",
    "* Optimization and Machine Learning: The use of quantum Hamiltonian simulation algorithms in optimization and machine learning is an active area of research. These algorithms are often incorporated as subroutines within broader quantum algorithms, combined with other quantum techniques tailored to optimization and machine learning tasks."
   ]
  },
  {
   "cell_type": "markdown",
   "metadata": {},
   "source": [
    "Within the framework of **product formulas**, we can mathematically approach the Hamiltonian Simulation problem as follows: Suppose we have a quantum computer that can run the evolution operators of the set of Hamiltonians $\\{H_j\\}$ natively. Now, suppose you want to understand the dynamics of the following, more complex, Hamiltonian:\n",
    "\n",
    "<details><summary>What are the operations that this quantum computer can effectively execute?</summary>\n",
    "\n",
    "If this quantum computer can only execute the evolution operators of the set of Hamiltonians $\\{H_j\\}$, then you could only have operations in the form:\n",
    "\n",
    "$$O = \\prod_{j} e^{-i \\,\\tau_j H_j}.$$\n",
    "</details>"
   ]
  },
  {
   "cell_type": "markdown",
   "metadata": {},
   "source": [
    "\\begin{equation}\n",
    "H_{full} = \\sum_{j} h_j H_j,\n",
    "\\end{equation}"
   ]
  },
  {
   "cell_type": "markdown",
   "metadata": {},
   "source": [
    "For some real values $h_j$. Therefore, a decomposition of the operator into the set of operations is needed, formed by $\\{e^{-itH_j}\\}$, where $e^{-itH_j}$ is the evolution operator of the Hamiltonian $H$."
   ]
  },
  {
   "cell_type": "markdown",
   "metadata": {},
   "source": [
    "## Suzuki-Trotter Decomposition"
   ]
  },
  {
   "cell_type": "markdown",
   "metadata": {},
   "source": [
    "Now that the problem is stated, a possible solution is the Suzuki-Trotter decomposition, also known as Trotterization. Simply put, this method involves 'breaking' the evolution operator into the evolution operators of its components. In the **first order**, it looks like this:\n",
    "\n",
    "\\begin{equation*}\n",
    "e^{-itH}=\\exp\\left\\{-it\\sum_{j=1}^N h_j H_j\\right\\} \\approx \\left(\\prod_{j}^N e^{-it h_j H_j/r}\\right)^r + \\mathcal{O}(t^2/r).\n",
    "\\end{equation*}\n",
    "\n",
    "Details about this decomposition are in [[1]](#ts_paper).\n",
    "\n",
    "This formula is important and has applications in several scenarios. Additionally, if you need an error that scales better than $t^2$, it is possible to achieve higher-order Suzuki-Trotter formulas. For example, the **second-order** Suzuki-Trotter would look like this:\n",
    "\n",
    "\\begin{equation*}\n",
    "e^{-itH}=\\exp\\left\\{-i\\left(\\sum_{j=1}^N \\frac{t_j}{2}\\,H_j + \\sum_{j=N}^1 \\frac{t_j}{2}\\,H_j\\right)\\right\\} \\approx \\left(\\prod_{j=1}^N e^{-it_j\\, H_j/(2r)}\\prod_{j=N}^1 e^{-it_j\\, H_j/(2r)}\\right)^r + \\mathcal{O}(t^3/r).\n",
    "\\end{equation*}\n"
   ]
  },
  {
   "cell_type": "markdown",
   "metadata": {},
   "source": [
    "Higher orders for the Suzuki-Trotter formula are in [[1](#ts_paper)]. However, as the number of terms in the Hamiltonian and the approximation order increases, it gets more complicated to construct the Suzuki-Trotter formulas. To this end, use the Classiq `suzuki_trotter()` function to execute an operator's Trotter decomposition, specifying the order and number of repetitions.\n",
    "\n",
    "The function's inputs are:\n",
    "\n",
    "* `pauli_operator`: `CArray[PauliTerm]`: The Pauli operator to be exponentiated, representing the term \\( H_j \\) and its respective coefficients \\( h_j \\);\n",
    "* `evolution_coefficient`: `CArray`: A global evolution coefficient multiplying the Pauli operator, representing the value \\( t \\) for the coefficient in the time evolution operator;\n",
    "* `order`: `CInt`: The order of the Suzuki-Trotter decomposition;\n",
    "* `repetitions`: `CInt`: The number of repetitions of the Suzuki-Trotter decomposition;\n",
    "* `qbv`: `QArray[QBit]`: The target quantum variable of the exponentiation, representing the qubits on which the operation will be applied.\n",
    "\n",
    "The following example demonstrates how to use it:"
   ]
  },
  {
   "cell_type": "markdown",
   "metadata": {},
   "source": [
    "Now that the inputs for the Suzuki-Trotter method are defined, apply it to the example of approximating the dynamics of the following two-qubits Hamiltonian: \n",
    "\n",
    "\n",
    "$$H = 0.3 \\, Z\\otimes Z + 0.7 \\,X\\otimes I + 0.2\\, I\\otimes X,$$\n",
    "\n",
    "which represents two spins interacting in a transversal field. Identify the operators $\\{H_j\\}$ and their respective coefficients $\\{h_j\\}$:\n",
    "\n",
    "$$\n",
    "\\begin{split}\n",
    "    H_1 = Z \\otimes Z,\\text{ coefficient: }h_1 = 0.3; \\\\\n",
    "    H_2 = X \\otimes I,\\text{ coefficient: }h_2 = 0.7; \\\\\n",
    "    H_3 = I \\otimes X,\\text{ coefficient: }h_3 = 0.2. \\\\\n",
    "\\end{split}\n",
    "$$\n",
    "\n",
    "Define the number of  $r$ repetitions into which to \"break\" the evolution, in this case,  $r=10$. The order of the Suzuki-Trotter decomposition can be altered in the parameter ``order``. In the current case, apply it to the first order. \n",
    "\n",
    "Define the evolution coefficient $t$, stating how much time the quantum system will be evolving under this Hamiltonian, according to the specific application you want. Set the evolution coefficient in the `evolution_coefficient` variable, considering it unitary in this example. In [this part of the guide](#measuring-the-expected-magnetization-as-a-function-of-time), you can follow an example where the evolution coefficient varies."
   ]
  },
  {
   "cell_type": "code",
   "execution_count": 1,
   "metadata": {},
   "outputs": [
    {
     "name": "stdout",
     "output_type": "stream",
     "text": [
      "Quantum program link: https://platform.classiq.io/circuit/2zL8Igh1gpshC6al1fNtP6ImEn9\n"
     ]
    }
   ],
   "source": [
    "from classiq import *\n",
    "\n",
    "# Defining the Hamiltonian:\n",
    "HAMILTONIAN = [\n",
    "    PauliTerm(pauli=[Pauli.Z, Pauli.Z], coefficient=0.3),\n",
    "    PauliTerm(pauli=[Pauli.X, Pauli.I], coefficient=0.7),\n",
    "    PauliTerm(pauli=[Pauli.I, Pauli.X], coefficient=0.2),\n",
    "]\n",
    "\n",
    "\n",
    "@qfunc\n",
    "def main(qba: Output[QArray]):\n",
    "    allocate(2, qba)\n",
    "    suzuki_trotter(\n",
    "        HAMILTONIAN,\n",
    "        evolution_coefficient=1.0,\n",
    "        order=1,\n",
    "        repetitions=10,\n",
    "        qbv=qba,\n",
    "    )\n",
    "\n",
    "\n",
    "qprog_trotter = synthesize(main)\n",
    "show(qprog_trotter)"
   ]
  },
  {
   "cell_type": "markdown",
   "metadata": {},
   "source": [
    "### Exponentiation with Depth Constraint\n",
    "\n",
    "It is also possible to generate an efficient decomposition of an evolution operator with the Classiq `exponentiation_with_depth_constraint` function. Given the maximum depth of the decomposition and the inputs related to the Hamiltonian, the synthesizer finds and applies the most accurate higher-order Trotter decomposition. Its inputs are the same as in `suzuki_trotter`, except that `max_depth` replaces explicitly specifying the number of `repetitions`.\n",
    "\n",
    "A maximum depth of 30 for the previous example yields:"
   ]
  },
  {
   "cell_type": "code",
   "execution_count": 2,
   "metadata": {},
   "outputs": [
    {
     "name": "stdout",
     "output_type": "stream",
     "text": [
      "Quantum program link: https://platform.classiq.io/circuit/2zL8Ixyowd3uDzlU5f5gv0wYnOC\n"
     ]
    }
   ],
   "source": [
    "@qfunc\n",
    "def main(qba: Output[QArray]):\n",
    "    allocate(2, qba)\n",
    "    exponentiation_with_depth_constraint(\n",
    "        HAMILTONIAN,\n",
    "        evolution_coefficient=1,\n",
    "        max_depth=30,\n",
    "        qbv=qba,\n",
    "    )\n",
    "\n",
    "\n",
    "qprog_exponentiation = synthesize(main)\n",
    "show(qprog_exponentiation)"
   ]
  },
  {
   "cell_type": "markdown",
   "metadata": {},
   "source": [
    "The number of repetitions can also be understood from the IDE, it is the number of repetitive blocks you see. In the current case, it applies the first-order decomposition, denoted in the IDE by the name ``single_trotter_suzuki_layer_xxxx``. In the case of higher orders, the output would identify which order is being used.\n",
    "\n",
    "![Trotter_gif](https://docs.classiq.io/resources/Trotter_order.gif)\n",
    "\n"
   ]
  },
  {
   "cell_type": "markdown",
   "metadata": {},
   "source": [
    "## qDRIFT"
   ]
  },
  {
   "cell_type": "markdown",
   "metadata": {},
   "source": [
    "The quantum stochastic drift protocol (qDRIFT) [[2]](#qdrift_paper) is similar to the first-order Suzuki-Trotter decomposition; however, it relies on a stochastic distribution of the evolution operators. The algorithm operates by sampling unitaries from the set $\\{e^{-itH_j}\\}$ according to a probability distribution defined by the weights $\\{h_j\\}$, normalized by a factor $\\lambda = \\sum_j h_j$. \n",
    "\n",
    "In a more structured manner, the qDRIFT protocol functions as follows:"
   ]
  },
  {
   "cell_type": "markdown",
   "metadata": {},
   "source": [
    "**Input**: A list of Hamiltonian terms $\\{H_j\\}$, a classical oracle function SAMPLE() that returns a value $j$ according to the probability distribution $p_j = h_j/\\lambda$, and a target precision $\\epsilon$.\n",
    "\n",
    "**Output**: An ordered list of evolution operators from the set $\\{e^{-itH_j}\\}$ that approximates the unitary $e^{-it\\,H}$ with a bound error $\\epsilon$.\n",
    "\n",
    "* Define a normalization to transform $\\{h_j\\}$ into a probability distribution. For this, define $\\sum_j h_j = \\lambda$.\n",
    "* The program depth is defined according to the required precision. For this, set $N = \\lceil 2\\lambda^2t^2/\\epsilon \\rceil$.\n",
    "* Now generate the ordered list of $N$ evolution operators according to the probability distribution."
   ]
  },
  {
   "cell_type": "markdown",
   "metadata": {},
   "source": [
    "**The qDRIFT has proved to be a good alternative for the Suzuki-Trotter decomposition when the number of terms in the Hamiltonian is not Pauli sparse**, i.e., the number of terms on the expansion $H = \\sum_j h_j H_j$ is not small when compared to all possible terms in it. This interesting method can be applied using the Classiq ``qdrift()`` function. \n",
    "\n",
    "Its inputs are:\n",
    "\n",
    "* ``pauli_operator``: ``CArray[PauliTerm]``: A list of Pauli operators that represent the term $H_j$ and its respective coefficients $h_j$;\n",
    "* ``evolution_coefficient ``: ``CArray`` The value $t$ for the coefficient in the time evolution operator;\n",
    "* ``num_qdrift``:``CInt``: The number $N$ of unitary operators in the list of gates given by the qDRIFT;\n",
    "* ``qbv``:``QArray[QBit]``: The target qubits."
   ]
  },
  {
   "cell_type": "markdown",
   "metadata": {},
   "source": [
    "In the current example, fix $N=288$, which corresponds to error $\\epsilon = 0.01$ in the approximation."
   ]
  },
  {
   "cell_type": "code",
   "execution_count": 3,
   "metadata": {},
   "outputs": [
    {
     "name": "stdout",
     "output_type": "stream",
     "text": [
      "Quantum program link: https://platform.classiq.io/circuit/2zL8KE4A7wTphYvraImv2Z1AYNa\n"
     ]
    }
   ],
   "source": [
    "@qfunc\n",
    "def main(qba: Output[QArray[QBit]]):\n",
    "    allocate(2, qba)\n",
    "    qdrift(\n",
    "        HAMILTONIAN,\n",
    "        evolution_coefficient=1,\n",
    "        num_qdrift=288,\n",
    "        qbv=qba,\n",
    "    )\n",
    "\n",
    "\n",
    "qprog_qdrift = synthesize(main)\n",
    "show(qprog_qdrift)"
   ]
  },
  {
   "cell_type": "markdown",
   "metadata": {},
   "source": [
    "## Hamiltonian Simulation with Block Encoding"
   ]
  },
  {
   "cell_type": "markdown",
   "metadata": {},
   "source": [
    "Other methods of Hamiltonian simulation outside of the **product formulas** leverage the idea of Block Encoding and eigenvalue transformations. These approaches allow for the efficient simulation of quantum systems by encoding operators into unitary matrices and applying transformations to the eigenvalues of these matrices."
   ]
  },
  {
   "cell_type": "markdown",
   "metadata": {},
   "source": [
    "## Qubitization"
   ]
  },
  {
   "cell_type": "markdown",
   "metadata": {},
   "source": [
    "The qubitization [[3]](#qubitization_paper) method enables the efficient simulation of quantum Hamiltonians. The key idea is to embed the Hamiltonian into a larger unitary operator, a method known as block encoding, where the block-encoded Hamiltonian is simulated using a quantum walk operator. This allows precise control over the evolution of quantum states and can significantly reduce the resources required for Hamiltonian simulation. For details on implementing the Qubitization method, visit the [Hamiltonian simulation with block encoding](https://docs.classiq.io/latest/explore/tutorials/basic_tutorials/hamiltonian_simulation/hamiltonian_simulation_with_block_encoding/hamiltonian_simulation_with_block_encoding/) guide."
   ]
  },
  {
   "cell_type": "markdown",
   "metadata": {},
   "source": [
    "## QSVT"
   ]
  },
  {
   "cell_type": "markdown",
   "metadata": {},
   "source": [
    "The general Quantum Singular Value Transformation (QSVT) [[4]](#qsvt_paper) method transforms the singular values of matrices encoded in quantum states. In Hamiltonian simulation, the objective is to use a sequence of quantum circuits to apply polynomial transformations to the singular values of a matrix, which are related to its eigenvalues. For details on how to implement the Qubitization method, visit the [Hamiltonian simulation with block encoding](https://docs.classiq.io/latest/explore/tutorials/basic_tutorials/hamiltonian_simulation/hamiltonian_simulation_with_block_encoding/hamiltonian_simulation_with_block_encoding/) guide."
   ]
  },
  {
   "cell_type": "markdown",
   "metadata": {},
   "source": [
    "## Measuring the Expected Magnetization as a Function of Time"
   ]
  },
  {
   "cell_type": "markdown",
   "metadata": {},
   "source": [
    "Learn how to apply these different methods and evaluate their performance in comparison with the exact evolution. You will see the evolution of the expected value of a specific operator and compare it to the exact solution. This section uses the same Hamiltonian from the examples:\n",
    "\n",
    "$$H = 0.3 \\cdot \\, Z\\otimes Z + 0.7 \\cdot \\,X\\otimes I + 0.2 \\cdot \\, I\\otimes X$$\n",
    "\n",
    "Now, analyze a quantity that varies with different values of time. For this, consider the behavior of the magnetization of the system, $M = (\\langle I\\otimes Z \\rangle + \\langle Z \\otimes I\\rangle)/2$ [[5]](#magnetization_paper), as a function of time. \n",
    "\n",
    "Precisely evaluate the result by exponentiating the Hamiltonian $H$ directly, and then comparing the results:"
   ]
  },
  {
   "cell_type": "code",
   "execution_count": 5,
   "metadata": {},
   "outputs": [],
   "source": [
    "import numpy as np\n",
    "from scipy.linalg import expm\n",
    "\n",
    "time_list = np.linspace(0, 2, 100).tolist()\n",
    "\n",
    "magnetization_hamiltonian = [\n",
    "    PauliTerm(pauli=[Pauli.Z, Pauli.I], coefficient=0.5),\n",
    "    PauliTerm(pauli=[Pauli.I, Pauli.Z], coefficient=0.5),\n",
    "]\n",
    "\n",
    "# Hamiltonians to matrices:\n",
    "magnetization_matrix = hamiltonian_to_matrix(magnetization_hamiltonian)\n",
    "Hamiltonian_matrix = hamiltonian_to_matrix(HAMILTONIAN)\n",
    "\n",
    "initial_state = np.zeros(4)\n",
    "initial_state[0] = 1.0\n",
    "\n",
    "\n",
    "def expected_value(state, operator):\n",
    "    state_H = np.conj(state.T)\n",
    "    return state_H @ operator @ state\n",
    "\n",
    "\n",
    "ideal_magnetization = []\n",
    "for t in time_list:\n",
    "    state = expm(-1j * t * Hamiltonian_matrix) @ initial_state\n",
    "    ideal_magnetization.append(expected_value(state, magnetization_matrix))"
   ]
  },
  {
   "cell_type": "markdown",
   "metadata": {},
   "source": [
    "To evaluate the expectation values of magnetization, use the ``estimate`` function for the Suzuki-Trotter and qDRIFT methods:"
   ]
  },
  {
   "cell_type": "code",
   "execution_count": 6,
   "metadata": {},
   "outputs": [],
   "source": [
    "from classiq.execution import ExecutionSession\n",
    "\n",
    "\n",
    "@qfunc\n",
    "def main(t: CReal, qba: Output[QArray]):\n",
    "    allocate(2, qba)\n",
    "    suzuki_trotter(\n",
    "        HAMILTONIAN,\n",
    "        evolution_coefficient=t,\n",
    "        order=1,\n",
    "        repetitions=30,\n",
    "        qbv=qba,\n",
    "    )\n",
    "\n",
    "\n",
    "qprog_magnetization_trotter = synthesize(main)\n",
    "t_values = [{\"t\": times} for times in time_list]\n",
    "\n",
    "with ExecutionSession(qprog_magnetization_trotter) as execution_trotter:\n",
    "    magnetization_ST_results = execution_trotter.batch_estimate(\n",
    "        magnetization_hamiltonian, t_values\n",
    "    )"
   ]
  },
  {
   "cell_type": "code",
   "execution_count": 7,
   "metadata": {},
   "outputs": [],
   "source": [
    "@qfunc\n",
    "def main(t: CReal, qba: Output[QArray]):\n",
    "    allocate(2, qba)\n",
    "    qdrift(\n",
    "        HAMILTONIAN,\n",
    "        evolution_coefficient=t,\n",
    "        num_qdrift=288,\n",
    "        qbv=qba,\n",
    "    )\n",
    "\n",
    "\n",
    "qprog_magnetization_qdrift = synthesize(main)\n",
    "\n",
    "with ExecutionSession(qprog_magnetization_qdrift) as execution_qdrift:\n",
    "    magnetization_qdrift_results = execution_qdrift.batch_estimate(\n",
    "        magnetization_hamiltonian, t_values\n",
    "    )"
   ]
  },
  {
   "cell_type": "markdown",
   "metadata": {},
   "source": [
    "For ``exponentiation_with_depth_constraint``, values of ``evolution_coefficient`` must be defined before synthesizing, since it is an important part of finding the most efficient decomposition. Therefore, a loop is necessary to synthesize and execute the quantum program for different evolution coefficients, and the populations of the final states can be used to evaluate the expected magnetization: "
   ]
  },
  {
   "cell_type": "code",
   "execution_count": 8,
   "metadata": {},
   "outputs": [],
   "source": [
    "magnetization_ewdc = []\n",
    "\n",
    "qprogs_magnetization_exponentiation = []\n",
    "\n",
    "for t in time_list:\n",
    "\n",
    "    @qfunc\n",
    "    def main(qba: Output[QArray]):\n",
    "        allocate(2, qba)\n",
    "        exponentiation_with_depth_constraint(\n",
    "            HAMILTONIAN,\n",
    "            evolution_coefficient=t,\n",
    "            max_depth=30,\n",
    "            qbv=qba,\n",
    "        )\n",
    "\n",
    "    qprog = synthesize(main)\n",
    "    qprogs_magnetization_exponentiation.append(qprog)\n",
    "\n",
    "    with ExecutionSession(qprog) as ewdc_execution:\n",
    "        magnetization_ewdc.append(\n",
    "            ewdc_execution.estimate(magnetization_hamiltonian).value\n",
    "        )"
   ]
  },
  {
   "cell_type": "markdown",
   "metadata": {},
   "source": [
    "You can plot the magnetization values of the three different methods with the exact values:"
   ]
  },
  {
   "cell_type": "code",
   "execution_count": 9,
   "metadata": {},
   "outputs": [
    {
     "data": {
      "image/png": "[encoded data removed]",
      "text/plain": [
       "<Figure size 640x480 with 1 Axes>"
      ]
     },
     "metadata": {},
     "output_type": "display_data"
    }
   ],
   "source": [
    "import matplotlib.pyplot as plt\n",
    "\n",
    "fig, ax = plt.subplots()\n",
    "ax.set_xlabel(\"Evolution coefficient\")\n",
    "ax.set_ylabel(\"Magnetization\")\n",
    "\n",
    "magnetization_ST = [values.value.real for values in magnetization_ST_results]\n",
    "magnetization_qdrift = [values.value.real for values in magnetization_qdrift_results]\n",
    "\n",
    "plt.plot(\n",
    "    time_list,\n",
    "    magnetization_ST,\n",
    "    label=\"Suzuki-Trotter 1st order\",\n",
    ")\n",
    "plt.plot(\n",
    "    time_list, np.real(magnetization_ewdc), label=\"Exponentiation with depth constraint\"\n",
    ")\n",
    "plt.plot(time_list, magnetization_qdrift, label=\"qDRIFT\")\n",
    "plt.plot(time_list, np.real(ideal_magnetization), label=\"Ideal Simulation\")\n",
    "plt.legend()\n",
    "plt.show()"
   ]
  },
  {
   "cell_type": "markdown",
   "metadata": {},
   "source": [
    "It's possible to observe that the larger `t` is, the worse the approximation gets for the same set of arguments. To get a better approximation, there is a need for a deeper quantum program with more layers and or with a higher order of approximation."
   ]
  },
  {
   "cell_type": "markdown",
   "metadata": {},
   "source": [
    "## Summary and Exercises"
   ]
  },
  {
   "cell_type": "markdown",
   "metadata": {},
   "source": [
    "This guide introduced the Suzuki-Trotter and qDRIFT methods for Hamiltonian simulation, highlighting the simplicity of Classiq's high level functional design in tackling complex problems.\n",
    "\n",
    "To become more familiar with the methods and see how the synthesis engine is able to optimize quantum models for Hamiltonian simulation, try to apply the ``qDrift`` and ``Suzuki-Trotter`` methods  to this tutorial as well as different values of the ``evolution_coefficient``:\n",
    "\n",
    "* [Hamiltonian Evolution for a Water Molecule](https://docs.classiq.io/latest/explore/tutorials/technology_demonstrations/hamiltonian_evolution/hamiltonian_evolution/)\n",
    "\n",
    "Another good exercise is solving molecules other than the water molecule. With Classiq, you can generate the Hamiltonian of any valid molecule structure, following the same process for the water molecule."
   ]
  },
  {
   "cell_type": "markdown",
   "metadata": {},
   "source": [
    "## Read More\n",
    "\n",
    "Besides the methods presented in this guide, there are also mixed approaches. One of them, proposed by Matthew Hagan and Nathan Wiebe [[6]](#quantum_sim_paper), offers an interesting combination of the Suzuki-Trotter and qDRIFT methods."
   ]
  },
  {
   "cell_type": "markdown",
   "metadata": {},
   "source": [
    "## References\n",
    "\n",
    "<a id='ts_paper'>[1]</a>: [Finding exponential product formulas of higher orders (Naomichi Hatano and Masuo Suzuki)](https://arxiv.org/abs/math-ph/0506007)\n",
    "\n",
    "<a id='qdrift_paper'>[2]</a>: [A random compiler for fast Hamiltonian simulation (Earl Campbell)](https://arxiv.org/abs/1811.08017)\n",
    "\n",
    "<a id='qubitization_paper'>[3]</a>: [Hamiltonian simulation by qubitization (Guang Hao Low and Isaac L. Chuang)](https://arxiv.org/abs/1610.06546)\n",
    "\n",
    "<a id='qsvt_paper'>[4]</a>: [Quantum singular value transformation and beyond: Exponential improvements for quantum matrix arithmetics (András Gilyén, Yuan Su, Guang Hao Low, and Nathan Wiebe)](https://arxiv.org/abs/1806.01838)\n",
    "\n",
    "<a id='magnetization_paper'>[5]</a>: [The microscopic magnetization: Concept and application (L. L. Hirst)](https://journals.aps.org/rmp/abstract/10.1103/RevModPhys.69.607)\n",
    "\n",
    "<a id='quantum_sim_paper'>[6]</a>: [Composite quantum simulations (Matthew Hagan and Nathan Wiebe)](https://quantum-journal.org/papers/q-2023-11-14-1181/)"
   ]
  }
 ],
 "metadata": {
  "kernelspec": {
   "display_name": ".venv",
   "language": "python",
   "name": "python3"
  },
  "language_info": {
   "codemirror_mode": {
    "name": "ipython",
    "version": 3
   },
   "file_extension": ".py",
   "mimetype": "text/x-python",
   "name": "python",
   "nbconvert_exporter": "python",
   "pygments_lexer": "ipython3",
   "version": "3.11.9"
  }
 },
 "nbformat": 4,
 "nbformat_minor": 4
}
