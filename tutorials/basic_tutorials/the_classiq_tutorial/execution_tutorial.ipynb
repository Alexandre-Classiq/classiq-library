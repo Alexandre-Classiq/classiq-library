{
 "cells": [
  {
   "cell_type": "markdown",
   "id": "8d39a38f",
   "metadata": {},
   "source": [
    "# Execution tutorial\n",
    "\n",
    "This tutorial covers the basics of executing a quantum circuit using Classiq directly through the Python SDK. It is also possible to use the [Classiq Platform](https://platform.classiq.io) to execute quantum algorithms.\n",
    "\n",
    "For this, we will start by synthesizing the following example, from the [synthesis tutorial](https://docs.classiq.io/latest/explore/tutorials/basic_tutorials/the_classiq_tutorial/synthesis_tutorial/):"
   ]
  },
  {
   "cell_type": "code",
   "execution_count": 1,
   "id": "9cac05e4",
   "metadata": {},
   "outputs": [],
   "source": [
    "from classiq import *\n",
    "\n",
    "\n",
    "@qfunc\n",
    "def main(x: Output[QNum[3]], y: Output[QNum]) -> None:\n",
    "    allocate(x)\n",
    "    hadamard_transform(x)\n",
    "    y |= x**2 + 1\n",
    "\n",
    "\n",
    "qprog = synthesize(main)"
   ]
  },
  {
   "cell_type": "markdown",
   "id": "d3d4a2ed",
   "metadata": {},
   "source": [
    "This quantum program evaluates the function $y(x) = x^2 + 1$, for all integers $x \\in [0,7]$. To execute a quantum program and save its results in the Python SDK, use `execute`:"
   ]
  },
  {
   "cell_type": "code",
   "execution_count": 2,
   "id": "89266894",
   "metadata": {},
   "outputs": [],
   "source": [
    "results = execute(qprog)"
   ]
  },
  {
   "cell_type": "markdown",
   "id": "652657e7",
   "metadata": {},
   "source": [
    "The outputs of the quantum circuit can be obtained through the attributes `counts` and `parsed_counts` from `results.result_value()`."
   ]
  },
  {
   "cell_type": "code",
   "execution_count": 3,
   "id": "03a3703d",
   "metadata": {},
   "outputs": [
    {
     "name": "stdout",
     "output_type": "stream",
     "text": [
      "Output of the executing using counts:  {'000101010': 258, '011010101': 242, '000001000': 253, '100101110': 256, '001010011': 256, '000010001': 256, '010001100': 271, '110010111': 256}\n",
      "Output of the executing using parsed_counts:  [{'x': 4, 'y': 17}: 271, {'x': 2, 'y': 5}: 258, {'x': 6, 'y': 37}: 256, {'x': 3, 'y': 10}: 256, {'x': 1, 'y': 2}: 256, {'x': 7, 'y': 50}: 256, {'x': 0, 'y': 1}: 253, {'x': 5, 'y': 26}: 242]\n"
     ]
    }
   ],
   "source": [
    "print(\"Output of the executing using counts: \", results.result_value().counts)\n",
    "\n",
    "print(\n",
    "    \"Output of the executing using parsed_counts: \",\n",
    "    results.result_value().parsed_counts,\n",
    ")"
   ]
  },
  {
   "cell_type": "markdown",
   "id": "e5326b2c",
   "metadata": {},
   "source": [
    "As we can see, the results from the execution are the same but differ in format: \n",
    "\n",
    "* `counts` will output a `dict` containing the bitstrings measured followed by its number of counts.\n",
    "* `parsed_counts` will output a `list` of `dicts`, each containing the values of `x` and `y` followed by its number of counts.\n",
    "\n",
    "These two ways of reading the results can be used in different."
   ]
  },
  {
   "cell_type": "markdown",
   "id": "04b1866f",
   "metadata": {},
   "source": [
    "## Backend selection\n",
    "\n",
    "The backend of an execution is the hardware choice where the quantum program is executed. It can be classical hardware, i.e., a simulator, or real hardware. To select a specific backend, it is necessary to import its correct Backend Preferences from `classiq.execution`. Check the different [Cloud Providers](https://docs.classiq.io/latest/user-guide/execution/cloud-providers/) and their Backend Preferences for execution.\n",
    "\n",
    "In this section we will explore two different examples for fixation: \n",
    "\n",
    "### First example: Execution using the state vector simulator from Classiq\n",
    "\n",
    "Since Classiq provides its own state vector simulator backend, we will use `ClassiqBackendPreferences` to define it as the state vector simulator. This information is provided on the [Cloud Providers page](https://docs.classiq.io/latest/user-guide/execution/cloud-providers/).\n",
    "\n",
    "To define the quantum program's execution preferences, use `ExecutionPreferences` and then `set_quantum_program_execution_preferences`. In this example, we will perform a simulation with `num_shots=1` since the state vector simulator performs an exact simulation of the quantum program.\n",
    "\n",
    "If no backend is defined on the preferences, then the [Classiq simulator](https://docs.classiq.io/latest/user-guide/execution/cloud-providers/classiq-backends/) is selected.\n"
   ]
  },
  {
   "cell_type": "code",
   "execution_count": 2,
   "id": "894e3d8e",
   "metadata": {},
   "outputs": [
    {
     "data": {
      "text/plain": [
       "QuantumProgram(outputs={<QuantumFormat.QASM: 'qasm'>: \"// G...15];\" (length=4146)}, qasm_version=<QasmVersion.V2: '2.0'>, version='0.79.1', interface_version='11', hardware_data=SynthesisHardwareData(basis_gates=['ry', 'x', 'u1', 'r', 'sxdg', 'z', 'id', 'sx', 'cz', 'u2', 's', 'y', 'tdg', 'p', 'cy', 'sdg', 'u', 'rx', 'rz', 't', 'h', 'cx'], connectivity_map=None, is_symmetric_connectivity=True, backend_data=None), initial_values=None, data=GeneratedCircuitData(width=16, circuit_parameters=[], qubit_mapping=QubitMapping(logical_inputs={}, logical_outputs={'x': (0, 1, 2), 'y': (3, 4, 5, 6, 7, 8)}, physical_inputs={}, physical_outputs={'x': (0, 1, 2), 'y': (3, 4, 5, 6, 7, 8)}), execution_data=None), model=ExecutionModel(version='0.79.1', interface_version='11', enums=[], types=[], qstructs=[], constants=[], classical_execution_code='', execution_preferences=ExecutionPreferences(noise_properties=None, random_seed=3442327117, backend_preferences=ClassiqBackendPreferences(backend_service_provider=<ProviderVendor.CLASSIQ: 'Classiq'>, backend_name='simulator_statevector'), num_shots=1, transpile_to_hardware=<TranspilationOption.DECOMPOSE: 'decompose'>, job_name=None), circuit_outputs={'x': RegisterArithmeticInfo(size=3, is_signed=False, fraction_places=0, bypass_bounds_validation=False, bounds=[0.0, 7.0]), 'y': RegisterArithmeticInfo(size=6, is_signed=False, fraction_places=0, bypass_bounds_validation=False, bounds=[0.0, 63.0])}, circuit_output_types={'x': RegisterQuantumType(quantum_types=QuantumNumeric(source_ref=None, back_ref=None, kind='qnum', size=Expression(source_ref=None, back_ref=None, expr='3'), is_signed=Expression(source_ref=None, back_ref=None, expr='False'), fraction_digits=Expression(source_ref=None, back_ref=None, expr='0')), size=3), 'y': RegisterQuantumType(quantum_types=QuantumNumeric(source_ref=None, back_ref=None, kind='qnum', size=Expression(source_ref=None, back_ref=None, expr='6'), is_signed=Expression(source_ref=None, back_ref=None, expr='False'), fraction_digits=Expression(source_ref=None, back_ref=None, expr='0')), size=6)}, register_filter_bitstrings={}), transpiled_circuit=TranspiledCircuitData(outputs={<QuantumFormat.QASM: 'qasm'>: \"// G...9];\n",
       "\" (length=9486)}, qasm_version=<QasmVersion.V2: '2.0'>, depth=225, count_ops={'u': 189, 'cx': 181}, logical_to_physical_input_qubit_map=[0, 1, 2, 3, 4, 5, 6, 7, 8, 9, 10, 11, 12, 13, 14, 15], logical_to_physical_output_qubit_map=[0, 1, 2, 3, 4, 5, 6, 7, 8, 9, 10, 11, 12, 13, 14, 15]), creation_time='2025-05-16T15:04:49.001711', synthesis_duration=SynthesisStepDurations(preprocessing=0.055184136028401554, solving=0.01472324295900762, conversion_to_circuit=0.007918849005363882, postprocessing=0.5335444209631532), debug_info=None, compressed_debug_info=b'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', program_id='7c8ab391-2f83-478d-99e9-fd0cb4b7ff45', execution_primitives_input=None)"
      ]
     },
     "execution_count": 2,
     "metadata": {},
     "output_type": "execute_result"
    }
   ],
   "source": [
    "from classiq.execution import ClassiqBackendPreferences, ExecutionPreferences\n",
    "\n",
    "backend_preferences = ClassiqBackendPreferences(\n",
    "    backend_name=\"simulator_statevector\"\n",
    ")  # Always check the Cloud Providers to correctly define the backend.\n",
    "\n",
    "execution_preferences = ExecutionPreferences(\n",
    "    num_shots=1, backend_preferences=backend_preferences\n",
    ")\n",
    "\n",
    "set_quantum_program_execution_preferences(qprog, execution_preferences)"
   ]
  },
  {
   "cell_type": "markdown",
   "id": "37b7f599",
   "metadata": {},
   "source": [
    "Now, execute the quantum program using `execute`."
   ]
  },
  {
   "cell_type": "code",
   "execution_count": 3,
   "id": "fe117021",
   "metadata": {},
   "outputs": [],
   "source": [
    "results_statevector = execute(qprog)"
   ]
  },
  {
   "cell_type": "markdown",
   "id": "801bd912",
   "metadata": {},
   "source": [
    "The outputs of the quantum program can be obtained through the attributes `state_vector` and `parsed_state_vector` from `results.result_value()`. Below, we can see the amplitudes for the state `'x':0, 'y':1`, which can be represented by the bitstring '0000000000001000':"
   ]
  },
  {
   "cell_type": "code",
   "execution_count": 4,
   "id": "dd9b3965",
   "metadata": {},
   "outputs": [
    {
     "name": "stdout",
     "output_type": "stream",
     "text": [
      "Amplitude of the state 0000000000001000:  (-0.35355339059327345-1.7801753908978445e-15j)\n",
      "Amplitude of the state {'x':0, 'y':1}:  (-0.35355339059327345-1.7801753908978445e-15j)\n"
     ]
    }
   ],
   "source": [
    "print(\n",
    "    \"Amplitude of the state 0000000000001000: \",\n",
    "    results_statevector.result_value().state_vector[\"0000000000001000\"],\n",
    ")\n",
    "\n",
    "state = next(\n",
    "    (\n",
    "        s\n",
    "        for s in results_statevector.result_value().parsed_state_vector\n",
    "        if s.bitstring == \"0000000000001000\"\n",
    "    ),\n",
    "    None,\n",
    ")\n",
    "if state:\n",
    "    print(\"Amplitude of the state {'x':0, 'y':1}: \", state.amplitude)"
   ]
  },
  {
   "cell_type": "markdown",
   "id": "f63fc4ae",
   "metadata": {},
   "source": [
    "The outputs from the execution obtained via statevector simulator will differ from the default simulator:\n",
    "\n",
    "* `state_vector` will output a `dict` containing the bitstrings followed by its numerically evaluated amplitudes.\n",
    "* `parsed_state_vector` will output a `list` of `SimulatedState`, each containing the values of `x` and `y` followed by its bitstrings and its numerically evaluated amplitudes."
   ]
  },
  {
   "cell_type": "markdown",
   "id": "59ec6e15",
   "metadata": {},
   "source": [
    "### Second example: Execution on free access IBM Hardware"
   ]
  },
  {
   "cell_type": "markdown",
   "id": "250a2bba",
   "metadata": {},
   "source": [
    "We will now execute our quantum program on `ibm_brisbane`, a quantum computer from IBM Quantum. For this, we need to check on the [Cloud Providers page](https://docs.classiq.io/latest/user-guide/execution/cloud-providers/) for the [IBM Quantum Backends](https://docs.classiq.io/latest/user-guide/execution/cloud-providers/ibm-backends/). First, we need to do [hardware-aware synthesis](), i.e., synthesize the quantum program accordingly to the hardware that it will be executed. This can be done by specifying the backend using the `Preferences` function."
   ]
  },
  {
   "cell_type": "code",
   "execution_count": 14,
   "id": "d9e0f89d",
   "metadata": {},
   "outputs": [],
   "source": [
    "preferences = Preferences(\n",
    "    backend_service_provider=\"IBM Quantum\", backend_name=\"ibm_brisbane\"\n",
    ")\n",
    "qprog = synthesize(main, preferences=preferences)"
   ]
  },
  {
   "cell_type": "markdown",
   "id": "13441698",
   "metadata": {},
   "source": [
    "On the Cloud Providers page, we can see that an access token from an IBM Quantum account is required. Using this information, it is possible to set our execution preferences:"
   ]
  },
  {
   "cell_type": "code",
   "execution_count": null,
   "id": "254382a8",
   "metadata": {},
   "outputs": [],
   "source": [
    "from classiq.execution import (\n",
    "    ExecutionPreferences,\n",
    "    IBMBackendPreferences,\n",
    "    IBMBackendProvider,\n",
    ")\n",
    "\n",
    "ibm_provider = IBMBackendProvider(hub=\"ibm-q\", group=\"open\", Project=\"main\")\n",
    "ibm_backend_preferences = IBMBackendPreferences(\n",
    "    backend_name=\"ibm_brisbane\", access_token=\"access_token\", provider=ibm_provider\n",
    ")\n",
    "\n",
    "execution_preferences = ExecutionPreferences(\n",
    "    num_shots=1000, backend_preferences=ibm_backend_preferences\n",
    ")\n",
    "\n",
    "qprog = set_quantum_program_execution_preferences(qprog, execution_preferences)"
   ]
  },
  {
   "cell_type": "code",
   "execution_count": 24,
   "id": "6a5509c5",
   "metadata": {},
   "outputs": [],
   "source": [
    "results_ibm_brisbane = execute(qprog).result_value()"
   ]
  },
  {
   "cell_type": "markdown",
   "id": "ce0e027a",
   "metadata": {},
   "source": [
    "Its outputs will formatted in the same way of the outputs of the Classiq simulator:"
   ]
  },
  {
   "cell_type": "code",
   "execution_count": 33,
   "id": "dd6b8d89",
   "metadata": {},
   "outputs": [
    {
     "name": "stdout",
     "output_type": "stream",
     "text": [
      "Output of the executing using counts:  {'111011000': 2, '101101110': 4, '000110111': 3, '011101100': 4, '101001000': 3, '111010100': 1, '010101001': 5, '010010011': 3, '000000010': 3, '001011001': 4, '100011001': 4, '000011101': 2, '000101101': 4, '101110101': 4, '110001011': 3, '111101010': 2, '101111110': 2, '010010110': 5, '000000101': 3, '110100000': 3, '101001101': 3, '011010011': 4, '000000100': 2, '001000000': 2, '110010110': 3, '011100100': 3, '111011011': 4, '110100001': 5, '111100100': 3, '101011001': 2, '010001111': 1, '001111101': 6, '101000001': 2, '010100111': 4, '111101001': 2, '101110111': 4, '111011101': 7, '001011011': 4, '111010111': 2, '010100110': 2, '000001000': 3, '110110111': 2, '000101100': 5, '111101011': 1, '111100111': 1, '101001111': 3, '101100011': 2, '001000001': 1, '010010111': 5, '111110101': 4, '010101101': 4, '100101111': 5, '110100101': 5, '111011100': 2, '111001100': 2, '111010101': 7, '111000101': 1, '100110011': 4, '010000010': 4, '010111100': 4, '000100111': 4, '000001100': 3, '101101101': 3, '101011101': 2, '001110101': 3, '000110001': 2, '100100001': 3, '001110011': 2, '110001110': 2, '101010100': 3, '011111011': 3, '110000010': 3, '110000100': 4, '110110011': 1, '010100000': 2, '110111100': 3, '011111110': 2, '000100000': 4, '011010010': 2, '101101100': 2, '011001101': 1, '011010100': 2, '011100011': 2, '000111001': 1, '110100011': 1, '101110011': 4, '001110100': 2, '010110011': 2, '001101101': 3, '100000011': 2, '001111001': 5, '111111100': 3, '100101101': 5, '001100100': 1, '001011100': 4, '001101001': 2, '011011101': 5, '000111100': 4, '001010011': 1, '101111101': 7, '100001011': 5, '111111011': 3, '001010100': 4, '011011011': 2, '101100010': 3, '111110001': 2, '100001110': 2, '100011101': 2, '011110001': 6, '100101001': 1, '100010001': 2, '001101011': 2, '101101010': 2, '111000100': 4, '100001010': 3, '010111110': 1, '010110101': 4, '001011010': 2, '101000110': 3, '101101001': 3, '100101000': 1, '100010011': 3, '111110110': 2, '101001001': 5, '100110100': 3, '100010000': 2, '000001101': 3, '010010001': 4, '110010111': 3, '110001111': 2, '110010000': 2, '100001101': 3, '001100111': 5, '011001001': 1, '011111100': 1, '010001010': 3, '110010101': 1, '101111001': 2, '100010110': 2, '001001011': 3, '000011011': 1, '110000000': 3, '000101011': 3, '100100010': 3, '011101001': 4, '110001001': 1, '110111101': 3, '100110111': 1, '110111111': 2, '101100000': 4, '010111101': 2, '000100001': 5, '110001100': 5, '010101011': 2, '010111001': 1, '001100101': 6, '000010001': 6, '001000011': 2, '101010101': 7, '010110110': 1, '110110101': 3, '000111111': 3, '011000101': 4, '101011100': 1, '000110010': 3, '100000010': 2, '111101110': 2, '110111000': 2, '101011111': 4, '001010111': 2, '000110101': 6, '100110001': 5, '100010111': 4, '101001011': 4, '001001101': 3, '100001000': 2, '110011101': 5, '010110010': 3, '010111011': 1, '010101000': 4, '000111011': 3, '111111010': 2, '111010001': 2, '111001010': 1, '011111000': 3, '111111101': 2, '111100101': 3, '010010101': 3, '010011000': 1, '111001001': 2, '100001100': 2, '000001011': 3, '000010110': 1, '100011000': 3, '000010000': 4, '110000011': 2, '001001001': 5, '100000111': 3, '110011111': 2, '010000001': 4, '110101101': 1, '000000001': 5, '001001100': 2, '110101111': 2, '000111101': 6, '000100100': 3, '110111110': 1, '011010001': 3, '011010111': 4, '110110000': 2, '001001111': 2, '000110110': 1, '010100101': 3, '010101100': 4, '010101111': 3, '011011000': 3, '111101000': 3, '011010000': 1, '100110000': 2, '011110101': 3, '001010001': 3, '110011110': 2, '001111010': 2, '001001000': 5, '100000000': 2, '101100101': 4, '011101111': 2, '111010000': 2, '000010011': 1, '100111100': 1, '001101100': 2, '010110111': 3, '000001001': 2, '111100110': 1, '000011000': 2, '111110111': 2, '101101011': 2, '010011001': 5, '010000100': 2, '110101011': 2, '001000110': 1, '011110111': 4, '100101011': 1, '100111010': 1, '011000011': 6, '100001111': 2, '001110001': 2, '111010110': 3, '100011011': 2, '101001110': 1, '010010000': 2, '111000110': 2, '000011010': 1, '110011000': 1, '100010101': 2, '001110111': 4, '110010010': 1, '011111111': 1, '110110010': 1, '000110100': 3, '110110100': 2, '110111001': 5, '000101001': 2, '101011010': 1, '000100101': 3, '001100000': 1, '010001011': 1, '011000111': 2, '011001100': 2, '111100001': 4, '101111011': 2, '100111011': 1, '111000000': 2, '101010110': 3, '011111101': 3, '100111101': 1, '111011110': 2, '100100110': 2, '111111111': 1, '000011111': 4, '110011100': 5, '100101110': 1, '110001101': 3, '011101000': 2, '001010101': 4, '000000111': 2, '111100011': 1, '111111001': 2, '011001010': 1, '001110110': 2, '100100011': 1, '111001011': 3, '101100001': 1, '100100101': 1, '011110110': 2, '001111011': 1, '111110011': 2, '011011111': 1, '010100010': 1, '110100111': 1, '010000011': 1, '010011101': 2, '011011001': 2, '110000001': 1, '001000101': 2, '110001000': 1, '001111000': 2, '100100111': 2, '000100110': 2, '101000111': 3, '111111000': 3, '001110000': 2, '010000101': 4, '011101101': 2, '011100101': 2, '100000001': 2, '000011001': 2, '001010010': 2, '001100011': 3, '111001101': 3, '100011111': 1, '101101000': 2, '001010000': 2, '011100111': 1, '010001100': 1, '001111111': 2, '101000011': 2, '101110110': 3, '001101110': 1, '100000110': 1, '010010100': 1, '100111111': 3, '111000011': 3, '110101001': 1, '010111111': 1, '011011100': 1, '101011000': 2, '110000110': 3, '100000101': 1, '111001000': 1, '011001011': 1, '010001000': 2, '000010010': 1, '111010010': 1, '110100010': 1, '111100010': 1, '101100110': 2, '010011111': 1, '000110000': 1, '101111000': 3, '100110101': 1, '110100100': 2, '011000001': 2, '011111001': 1, '010110001': 2, '001000111': 1, '101100100': 2, '011101011': 2, '010100001': 2, '101010111': 2, '111011001': 1, '001011101': 5, '100100100': 1, '010011110': 1, '010010010': 2, '111101100': 1, '001100001': 1, '110000101': 1, '110110001': 1, '111010011': 2, '011100001': 1, '010000000': 2, '111111110': 1, '000001111': 1, '011110000': 2, '011110100': 1, '011001111': 1, '110010100': 1, '001001110': 1, '000101110': 1, '101110001': 3, '011101010': 2, '010000111': 2, '100010100': 2, '111001110': 1, '111001111': 2, '101110100': 1, '100100000': 1, '011100000': 2, '100011100': 1, '110101100': 3, '101001010': 1, '011001000': 1, '110101010': 1, '011110011': 3, '101111100': 1, '001011110': 1, '011000010': 1, '011010101': 2, '010111010': 1, '000010101': 1, '011111010': 1, '000001010': 1, '111000001': 1, '101000000': 1, '000111000': 1, '101011011': 1, '100110110': 1, '110101110': 1, '101111111': 1, '001000100': 1, '100101010': 1, '000000000': 1, '111101111': 1, '000001110': 1, '000101111': 1, '010011011': 1, '100111000': 1, '000100010': 1, '111100000': 1, '011110010': 1, '110101000': 1, '100110010': 1}\n",
      "Partial output of the executing using parsed_counts:  [{'x': 5, 'y': 59}: 7, {'x': 5, 'y': 58}: 7, {'x': 5, 'y': 47}: 7, {'x': 5, 'y': 42}: 7, {'x': 5, 'y': 15}: 6, {'x': 1, 'y': 30}: 6, {'x': 5, 'y': 12}: 6, {'x': 1, 'y': 2}: 6, {'x': 5, 'y': 6}: 6, {'x': 5, 'y': 7}: 6, {'x': 3, 'y': 24}: 6, {'x': 1, 'y': 21}: 5, {'x': 6, 'y': 18}: 5, {'x': 1, 'y': 52}: 5, {'x': 4, 'y': 5}: 5, {'x': 7, 'y': 18}: 5, {'x': 7, 'y': 37}: 5, {'x': 5, 'y': 52}: 5, {'x': 1, 'y': 15}: 5, {'x': 5, 'y': 37}: 5, {'x': 5, 'y': 27}: 5, {'x': 3, 'y': 33}: 5, {'x': 1, 'y': 41}: 5, {'x': 7, 'y': 12}: 5, {'x': 1, 'y': 4}: 5, {'x': 4, 'y': 49}: 5, {'x': 1, 'y': 38}: 5, {'x': 5, 'y': 51}: 5, {'x': 1, 'y': 9}: 5, {'x': 1, 'y': 0}: 5, {'x': 0, 'y': 9}: 5, {'x': 1, 'y': 19}: 5, {'x': 1, 'y': 55}: 5, {'x': 4, 'y': 51}: 5, {'x': 5, 'y': 11}: 5, {'x': 6, 'y': 45}: 4, {'x': 4, 'y': 29}: 4, {'x': 1, 'y': 11}: 4, {'x': 1, 'y': 35}: 4, {'x': 5, 'y': 5}: 4, {'x': 5, 'y': 46}: 4, {'x': 3, 'y': 26}: 4, {'x': 3, 'y': 59}: 4, {'x': 7, 'y': 20}: 4, {'x': 7, 'y': 46}: 4, {'x': 3, 'y': 11}: 4, {'x': 5, 'y': 62}: 4, {'x': 5, 'y': 21}: 4, {'x': 3, 'y': 38}: 4, {'x': 2, 'y': 16}: 4, {'x': 4, 'y': 23}: 4, {'x': 7, 'y': 4}: 4, {'x': 4, 'y': 48}: 4, {'x': 0, 'y': 4}: 4, {'x': 3, 'y': 46}: 4, {'x': 4, 'y': 11}: 4, {'x': 4, 'y': 7}: 4, {'x': 4, 'y': 10}: 4, {'x': 4, 'y': 56}: 4, {'x': 5, 'y': 22}: 4, {'x': 1, 'y': 18}: 4, {'x': 1, 'y': 29}: 4, {'x': 0, 'y': 44}: 4, {'x': 5, 'y': 24}: 4, {'x': 7, 'y': 43}: 4, {'x': 7, 'y': 34}: 4, {'x': 3, 'y': 41}: 4, {'x': 0, 'y': 21}: 4, {'x': 0, 'y': 2}: 4, {'x': 1, 'y': 16}: 4, {'x': 7, 'y': 26}: 4, {'x': 4, 'y': 21}: 4, {'x': 5, 'y': 44}: 4, {'x': 7, 'y': 30}: 4, {'x': 7, 'y': 14}: 4, {'x': 1, 'y': 60}: 4, {'x': 7, 'y': 3}: 4, {'x': 5, 'y': 10}: 4, {'x': 5, 'y': 16}: 4, {'x': 7, 'y': 6}: 3, {'x': 0, 'y': 41}: 3, {'x': 3, 'y': 18}: 3, {'x': 2, 'y': 0}: 3, {'x': 3, 'y': 49}: 3, {'x': 5, 'y': 0}: 3, {'x': 0, 'y': 52}: 3, {'x': 5, 'y': 41}: 3, {'x': 6, 'y': 50}: 3, {'x': 4, 'y': 28}: 3, {'x': 4, 'y': 60}: 3, {'x': 0, 'y': 1}: 3, {'x': 7, 'y': 41}: 3, {'x': 4, 'y': 1}: 3, {'x': 5, 'y': 45}: 3, {'x': 5, 'y': 14}: 3, {'x': 1, 'y': 36}: 3, {'x': 4, 'y': 42}: 3, {'x': 3, 'y': 31}: 3, {'x': 2, 'y': 48}: 3, {'x': 4, 'y': 55}: 3]\n"
     ]
    }
   ],
   "source": [
    "print(\n",
    "    \"Output of the executing using counts: \",\n",
    "    results_ibm_brisbane.counts,\n",
    ")\n",
    "\n",
    "print(\n",
    "    \"Partial output of the executing using parsed_counts: \",\n",
    "    results_ibm_brisbane.parsed_counts[:100],\n",
    ")"
   ]
  }
 ],
 "metadata": {
  "kernelspec": {
   "display_name": ".venv",
   "language": "python",
   "name": "python3"
  },
  "language_info": {
   "codemirror_mode": {
    "name": "ipython",
    "version": 3
   },
   "file_extension": ".py",
   "mimetype": "text/x-python",
   "name": "python",
   "nbconvert_exporter": "python",
   "pygments_lexer": "ipython3",
   "version": "3.11.9"
  }
 },
 "nbformat": 4,
 "nbformat_minor": 5
}
