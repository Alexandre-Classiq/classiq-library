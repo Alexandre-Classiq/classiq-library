{
 "cells": [
  {
   "cell_type": "markdown",
   "id": "8d39a38f",
   "metadata": {},
   "source": [
    "# Execution tutorial\n",
    "\n",
    "This tutorial covers the basics of executing a quantum circuit using Classiq directly through the Python SDK. It is also possible to use the [Classiq Platform](https://platform.classiq.io) to execute quantum algorithms.\n",
    "\n",
    "For this, we will start by synthesizing the following example, from the [synthesis tutorial](https://docs.classiq.io/latest/explore/tutorials/basic_tutorials/the_classiq_tutorial/synthesis_tutorial/):"
   ]
  },
  {
   "cell_type": "code",
   "execution_count": null,
   "id": "9cac05e4",
   "metadata": {},
   "outputs": [
    {
     "name": "stdout",
     "output_type": "stream",
     "text": [
      "Quantum program link: https://platform.classiq.io/circuit/2xjOP268lmVtmDjQa5sTlNiFMK8?login=True&version=0.81.0\n"
     ]
    }
   ],
   "source": [
    "from classiq import (\n",
    "    Output,\n",
    "    Preferences,\n",
    "    QNum,\n",
    "    allocate,\n",
    "    hadamard_transform,\n",
    "    qfunc,\n",
    "    show,\n",
    "    synthesize,\n",
    ")\n",
    "from classiq.execution import (\n",
    "    ExecutionJob,\n",
    "    ExecutionSession,\n",
    "    set_quantum_program_execution_preferences,\n",
    ")\n",
    "\n",
    "\n",
    "@qfunc\n",
    "def main(x: Output[QNum[3]], y: Output[QNum]) -> None:\n",
    "    allocate(x)\n",
    "    hadamard_transform(x)\n",
    "    y |= x**2 + 1\n",
    "\n",
    "\n",
    "qprog = synthesize(main)\n",
    "show(qprog)"
   ]
  },
  {
   "cell_type": "markdown",
   "id": "d3d4a2ed",
   "metadata": {},
   "source": [
    "This quantum program evaluates the function $y(x) = x^2 + 1$, for all integers $x \\in [0,7]$. To execute a quantum program and save its results in the Python SDK, create an `ExecutionSession`. To sample the states using this object, one can use `sample`:"
   ]
  },
  {
   "cell_type": "code",
   "execution_count": 5,
   "id": "89266894",
   "metadata": {},
   "outputs": [],
   "source": [
    "with ExecutionSession(qprog) as es:\n",
    "    results = es.sample()"
   ]
  },
  {
   "cell_type": "markdown",
   "id": "652657e7",
   "metadata": {},
   "source": [
    "The outputs of the quantum circuit can be obtained through the attributes `counts` and `parsed_counts`."
   ]
  },
  {
   "cell_type": "code",
   "execution_count": 7,
   "id": "03a3703d",
   "metadata": {},
   "outputs": [
    {
     "name": "stdout",
     "output_type": "stream",
     "text": [
      "Output of the executing using counts:  {'110010111': 247, '100101110': 263, '010001100': 238, '001010011': 262, '000010001': 254, '000101010': 247, '000001000': 269, '011010101': 268}\n",
      "Output of the executing using parsed_counts:  [{'x': 0, 'y': 1}: 269, {'x': 5, 'y': 26}: 268, {'x': 6, 'y': 37}: 263, {'x': 3, 'y': 10}: 262, {'x': 1, 'y': 2}: 254, {'x': 7, 'y': 50}: 247, {'x': 2, 'y': 5}: 247, {'x': 4, 'y': 17}: 238]\n"
     ]
    }
   ],
   "source": [
    "print(\"Output of the executing using counts: \", results.counts)\n",
    "\n",
    "print(\n",
    "    \"Output of the executing using parsed_counts: \",\n",
    "    results.parsed_counts,\n",
    ")"
   ]
  },
  {
   "cell_type": "markdown",
   "id": "e5326b2c",
   "metadata": {},
   "source": [
    "As we can see, the results from the execution are the same but differ in format: \n",
    "\n",
    "* `counts` will output a `dict` containing the bitstrings measured followed by its number of counts.\n",
    "* `parsed_counts` will output a `list` of `dicts`, each containing the values of `x` and `y` followed by its number of counts.\n",
    "\n",
    "These two ways of reading the results can be used in different."
   ]
  },
  {
   "cell_type": "markdown",
   "id": "04b1866f",
   "metadata": {},
   "source": [
    "## Backend selection\n",
    "\n",
    "The backend of an execution is the hardware choice where the quantum program is executed. It can be classical hardware, i.e., a simulator, or real hardware. To select a specific backend, it is necessary to import its correct Backend Preferences from `classiq.execution`. Check the different [Cloud Providers](https://docs.classiq.io/latest/user-guide/execution/cloud-providers/) and their Backend Preferences for execution.\n",
    "\n",
    "In this section we will explore two different examples for fixation: \n",
    "\n",
    "### First example: Execution using the state vector simulator from Classiq\n",
    "\n",
    "Since Classiq provides its own state vector simulator backend, we will use `ClassiqBackendPreferences` to define it as the state vector simulator. This information is provided on the [Cloud Providers page](https://docs.classiq.io/latest/user-guide/execution/cloud-providers/).\n",
    "\n",
    "To define the quantum program's execution preferences, use `ExecutionPreferences` and then `set_quantum_program_execution_preferences`. In this example, we will perform a simulation with `num_shots=1` since the state vector simulator performs an exact simulation of the quantum program.\n",
    "\n",
    "If no backend is defined on the preferences, then the [Classiq simulator](https://docs.classiq.io/latest/user-guide/execution/cloud-providers/classiq-backends/) is selected.\n"
   ]
  },
  {
   "cell_type": "code",
   "execution_count": null,
   "id": "894e3d8e",
   "metadata": {},
   "outputs": [
    {
     "data": {
      "text/plain": [
       "QuantumProgram(outputs={<QuantumFormat.QASM: 'qasm'>: \"// G...[8];\" (length=4181)}, qasm_version=<QasmVersion.V2: '2.0'>, version='0.80.1', interface_version='11', hardware_data=SynthesisHardwareData(basis_gates=['id', 'r', 'u1', 'rz', 'tdg', 'cx', 's', 'y', 'u', 'u2', 'x', 'p', 'cz', 't', 'ry', 'h', 'sx', 'sdg', 'rx', 'z', 'sxdg', 'cy'], connectivity_map=None, is_symmetric_connectivity=True, backend_data=None), initial_values=None, data=GeneratedCircuitData(width=9, circuit_parameters=[], qubit_mapping=QubitMapping(logical_inputs={}, logical_outputs={'x': (0, 1, 2), 'y': (3, 4, 5, 6, 7, 8)}, physical_inputs={}, physical_outputs={'x': (0, 1, 2), 'y': (3, 4, 5, 6, 7, 8)}), execution_data=None), model=ExecutionModel(version='0.80.1', interface_version='11', enums=[], types=[], qstructs=[], constants=[], classical_execution_code='dummy', execution_preferences=ExecutionPreferences(noise_properties=None, random_seed=4018210209, backend_preferences=ClassiqBackendPreferences(backend_service_provider=<ProviderVendor.CLASSIQ: 'Classiq'>, backend_name='simulator_statevector'), num_shots=1, transpile_to_hardware=<TranspilationOption.DECOMPOSE: 'decompose'>, job_name=None), circuit_outputs={'x': RegisterArithmeticInfo(size=3, is_signed=False, fraction_places=0, bypass_bounds_validation=False, bounds=[0.0, 7.0]), 'y': RegisterArithmeticInfo(size=6, is_signed=False, fraction_places=0, bypass_bounds_validation=False, bounds=[0.0, 63.0])}, circuit_output_types={'x': RegisterQuantumType(quantum_types=QuantumNumeric(source_ref=None, back_ref=None, kind='qnum', size=Expression(source_ref=None, back_ref=None, expr='3'), is_signed=Expression(source_ref=None, back_ref=None, expr='False'), fraction_digits=Expression(source_ref=None, back_ref=None, expr='0')), size=3), 'y': RegisterQuantumType(quantum_types=QuantumNumeric(source_ref=None, back_ref=None, kind='qnum', size=Expression(source_ref=None, back_ref=None, expr='6'), is_signed=Expression(source_ref=None, back_ref=None, expr='False'), fraction_digits=Expression(source_ref=None, back_ref=None, expr='0')), size=6)}, register_filter_bitstrings={}), transpiled_circuit=TranspiledCircuitData(outputs={<QuantumFormat.QASM: 'qasm'>: \"// G...8];\n",
       "\" (length=9291)}, qasm_version=<QasmVersion.V2: '2.0'>, depth=199, count_ops={'u': 185, 'cx': 168}, logical_to_physical_input_qubit_map=[0, 1, 2, 3, 4, 5, 6, 7, 8], logical_to_physical_output_qubit_map=[0, 1, 2, 3, 4, 5, 6, 7, 8]), creation_time='2025-05-27T15:55:12.971014', synthesis_duration=SynthesisStepDurations(preprocessing=0.05940748983994126, solving=0.014244297984987497, conversion_to_circuit=0.007229446899145842, postprocessing=0.4899523470085114), debug_info=None, compressed_debug_info=b'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', program_id='7af8da46-14e0-4711-9745-d89542312888', execution_primitives_input=None)"
      ]
     },
     "execution_count": 8,
     "metadata": {},
     "output_type": "execute_result"
    }
   ],
   "source": [
    "from classiq.execution import ClassiqBackendPreferences, ExecutionPreferences\n",
    "\n",
    "backend_preferences = ClassiqBackendPreferences(\n",
    "    backend_name=\"simulator_statevector\"\n",
    ")  # Always check the Cloud Providers to correctly define the backend.\n",
    "\n",
    "execution_preferences = ExecutionPreferences(\n",
    "    num_shots=1, backend_preferences=backend_preferences\n",
    ")\n",
    "\n",
    "set_quantum_program_execution_preferences(qprog, execution_preferences)"
   ]
  },
  {
   "cell_type": "markdown",
   "id": "37b7f599",
   "metadata": {},
   "source": [
    "Now, execute the quantum program using `execute`."
   ]
  },
  {
   "cell_type": "code",
   "execution_count": 9,
   "id": "fe117021",
   "metadata": {},
   "outputs": [],
   "source": [
    "with ExecutionSession(qprog) as es:\n",
    "    results_statevector = es.sample()"
   ]
  },
  {
   "cell_type": "markdown",
   "id": "801bd912",
   "metadata": {},
   "source": [
    "The outputs of the quantum program can be obtained through the attributes `state_vector` and `parsed_state_vector` from `results.result_value()`. Below, we can see the amplitudes for the state `'x':0, 'y':1`, which can be represented by the bitstring '0000000000001000':"
   ]
  },
  {
   "cell_type": "code",
   "execution_count": null,
   "id": "dd9b3965",
   "metadata": {},
   "outputs": [
    {
     "name": "stdout",
     "output_type": "stream",
     "text": [
      "Amplitude of the state 000001000:  (-2.5162583618884327e-15+0.3535533905932734j)\n",
      "Amplitude of the state {'x':0, 'y':1}:  (-2.5162583618884327e-15+0.3535533905932734j)\n"
     ]
    }
   ],
   "source": [
    "print(\n",
    "    \"Amplitude of the state 000001000: \",\n",
    "    results_statevector.state_vector.get(\"000001000\", None),\n",
    ")\n",
    "\n",
    "state = next(\n",
    "    (s for s in results_statevector.parsed_state_vector if s.bitstring == \"000001000\"),\n",
    "    None,\n",
    ")\n",
    "print(\"Amplitude of the state {'x':0, 'y':1}: \", state.amplitude if state else None)"
   ]
  },
  {
   "cell_type": "markdown",
   "id": "f63fc4ae",
   "metadata": {},
   "source": [
    "The outputs from the execution obtained via statevector simulator will differ from the default simulator:\n",
    "\n",
    "* `state_vector` will output a `dict` containing the bitstrings followed by its numerically evaluated amplitudes.\n",
    "* `parsed_state_vector` will output a `list` of `SimulatedState`, each containing the values of `x` and `y` followed by its bitstrings and its numerically evaluated amplitudes."
   ]
  },
  {
   "cell_type": "markdown",
   "id": "59ec6e15",
   "metadata": {},
   "source": [
    "### Second example: Execution on free access IBM Hardware"
   ]
  },
  {
   "cell_type": "markdown",
   "id": "250a2bba",
   "metadata": {},
   "source": [
    "We will now execute our quantum program on `ibm_brisbane`, a quantum computer from IBM Quantum. For this, we need to check on the [Cloud Providers page](https://docs.classiq.io/latest/user-guide/execution/cloud-providers/) for the [IBM Quantum Backends](https://docs.classiq.io/latest/user-guide/execution/cloud-providers/ibm-backends/). First, we need to do [hardware-aware synthesis](), i.e., synthesize the quantum program accordingly to the hardware that it will be executed. This can be done by specifying the backend using the `Preferences` function."
   ]
  },
  {
   "cell_type": "code",
   "execution_count": null,
   "id": "d9e0f89d",
   "metadata": {},
   "outputs": [],
   "source": [
    "preferences = Preferences(\n",
    "    backend_service_provider=\"IBM Quantum\", backend_name=\"ibm_brisbane\"\n",
    ")\n",
    "# Uncomment the following line to set the execution preferences and modify the backend.\n",
    "# qprog = synthesize(main, preferences=preferences)"
   ]
  },
  {
   "cell_type": "markdown",
   "id": "13441698",
   "metadata": {},
   "source": [
    "On the Cloud Providers page, we can see that an access token from an IBM Quantum account is required. Using this information, it is possible to set our execution preferences:"
   ]
  },
  {
   "cell_type": "code",
   "execution_count": null,
   "id": "254382a8",
   "metadata": {},
   "outputs": [],
   "source": [
    "from classiq.execution import (\n",
    "    ExecutionPreferences,\n",
    "    IBMBackendPreferences,\n",
    "    IBMBackendProvider,\n",
    ")\n",
    "\n",
    "ibm_provider = IBMBackendProvider(hub=\"ibm-q\", group=\"open\", Project=\"main\")\n",
    "ibm_backend_preferences = IBMBackendPreferences(\n",
    "    backend_name=\"ibm_brisbane\",\n",
    "    access_token=\"your-access-token-here\",\n",
    "    provider=ibm_provider,\n",
    ")\n",
    "\n",
    "execution_preferences = ExecutionPreferences(\n",
    "    num_shots=1000, backend_preferences=ibm_backend_preferences\n",
    ")\n",
    "# Uncomment the following line to set the execution preferences and modify the backend.\n",
    "# qprog = set_quantum_program_execution_preferences(qprog, execution_preferences)"
   ]
  },
  {
   "cell_type": "code",
   "execution_count": null,
   "id": "6a5509c5",
   "metadata": {},
   "outputs": [],
   "source": [
    "with ExecutionSession(qprog) as es:\n",
    "    results = es.sample()"
   ]
  },
  {
   "cell_type": "markdown",
   "id": "ce0e027a",
   "metadata": {},
   "source": [
    "Its outputs will formatted in the same way of the outputs of the Classiq simulator:"
   ]
  },
  {
   "cell_type": "code",
   "execution_count": null,
   "id": "dd6b8d89",
   "metadata": {},
   "outputs": [
    {
     "name": "stdout",
     "output_type": "stream",
     "text": [
      "Output of the executing using counts:  {'010110100': 2, '101101101': 4, '100011110': 4, '011100011': 5, '011011110': 4, '111010001': 3, '111001010': 2, '001011110': 1, '001011010': 4, '010111011': 2, '111110111': 2, '110011100': 1, '110101101': 2, '001000011': 1, '101011110': 1, '100010000': 2, '010011111': 3, '100101111': 2, '100111100': 4, '011100001': 6, '111001011': 1, '010010000': 4, '010010111': 4, '100001010': 2, '100101000': 6, '111100010': 2, '000011001': 3, '111000101': 3, '011100100': 3, '001100001': 4, '110101011': 2, '001010001': 3, '110110100': 2, '110001010': 2, '000000110': 3, '100101100': 3, '110001110': 1, '010001101': 4, '001000110': 2, '001000100': 2, '110110000': 2, '010011010': 2, '011001101': 4, '101001001': 2, '110111001': 1, '101110101': 2, '110110001': 3, '000001000': 2, '111000111': 3, '010010011': 3, '000110000': 2, '101100101': 2, '001001101': 4, '011111110': 3, '001100000': 3, '101111100': 4, '001100100': 4, '000001001': 2, '100001100': 5, '001111001': 2, '110100110': 3, '111101100': 1, '111110110': 2, '110010000': 5, '101101010': 1, '110100001': 1, '101010110': 3, '101011001': 4, '000001011': 3, '100101001': 4, '001100111': 3, '100100100': 5, '000111010': 4, '001111101': 4, '110110011': 1, '000011000': 6, '101111011': 6, '000110001': 6, '101011010': 1, '110101100': 4, '010100111': 2, '001001100': 3, '010111100': 1, '001110111': 1, '001000000': 4, '010000101': 2, '011111001': 4, '011011010': 1, '011010110': 2, '011001001': 5, '100001011': 3, '010110111': 1, '101000011': 1, '110000100': 1, '110011101': 1, '000110110': 2, '111111000': 4, '101101111': 2, '010110001': 2, '111011010': 4, '011010111': 4, '011010100': 1, '101000101': 3, '000000010': 3, '110001111': 2, '100101011': 3, '110010001': 3, '111000100': 1, '011101000': 2, '001101011': 6, '110000000': 2, '011110100': 2, '101001011': 1, '101000111': 1, '110011001': 2, '010101001': 6, '101010100': 1, '010011110': 2, '101010000': 4, '001001000': 4, '001001111': 3, '111100110': 4, '100010101': 2, '111001100': 2, '110000011': 3, '011111101': 3, '000001101': 1, '100110010': 1, '000010100': 3, '100010111': 1, '100111011': 2, '100111101': 6, '111111001': 2, '011111010': 4, '010001111': 3, '011100101': 2, '001010010': 3, '011110011': 5, '010110011': 4, '001101101': 3, '001000010': 1, '010001000': 2, '100011000': 5, '111011110': 5, '010101101': 5, '011001011': 1, '100010001': 2, '110111111': 1, '001110011': 2, '111110100': 3, '011111111': 2, '111011000': 3, '000100111': 3, '000011010': 1, '101110100': 4, '101110001': 4, '100110111': 4, '010001001': 2, '100100000': 3, '110010010': 3, '101100001': 2, '101111111': 2, '000111001': 3, '000000101': 1, '001011101': 3, '111111010': 4, '010011000': 3, '011101001': 3, '001101001': 5, '101100110': 2, '011110000': 3, '011110010': 1, '111110001': 2, '001000111': 4, '110100011': 2, '000101111': 1, '111101001': 2, '101011100': 2, '101110011': 4, '011110111': 1, '010101100': 3, '010101011': 2, '101001000': 1, '111110010': 2, '110010111': 1, '110000001': 3, '100011111': 5, '010100000': 1, '011011101': 2, '110110110': 2, '001110001': 2, '110100000': 6, '101110110': 1, '101011000': 3, '010111110': 2, '110110010': 3, '110111110': 1, '101101011': 3, '110100101': 2, '101100100': 3, '001001110': 3, '100110000': 2, '101100011': 4, '010000010': 2, '000100011': 1, '101011011': 4, '100011001': 1, '000101000': 2, '010011100': 2, '110001001': 3, '000001100': 2, '011101011': 1, '011001100': 3, '110100100': 3, '111001110': 4, '000101010': 1, '011010001': 2, '011110001': 2, '111101010': 4, '001101110': 3, '001100010': 1, '101010111': 3, '101110000': 4, '001010111': 1, '001110101': 5, '010110101': 1, '100001110': 1, '111111101': 2, '010111001': 1, '110001101': 1, '011000000': 2, '011011001': 2, '101101110': 3, '000111011': 1, '011010101': 1, '101111001': 4, '101011111': 1, '111110000': 3, '111000110': 2, '111011100': 1, '001010110': 3, '110110111': 3, '001011000': 2, '000011110': 2, '000010000': 4, '110101010': 2, '001100110': 2, '011000100': 5, '111101110': 2, '110101111': 1, '000000000': 2, '000010010': 2, '001111011': 2, '110011110': 1, '010010010': 2, '111001000': 3, '100010010': 2, '100110110': 1, '010101110': 4, '110101000': 3, '110111101': 1, '000001111': 3, '100000111': 1, '010100011': 3, '111011111': 1, '100000101': 2, '011111100': 2, '110111010': 1, '110111100': 2, '111000011': 2, '010100010': 4, '000010101': 3, '000000001': 1, '001010011': 1, '111100111': 1, '100100110': 2, '111000000': 1, '010110000': 1, '001001001': 3, '111010111': 1, '101001110': 3, '110110101': 3, '000000011': 2, '001011100': 3, '000101100': 3, '011100111': 2, '111111100': 1, '101001101': 2, '110000101': 1, '011110110': 2, '011000001': 4, '101110111': 2, '110101110': 1, '101100010': 2, '110011000': 2, '100011101': 1, '101010011': 4, '001000001': 2, '111101000': 2, '100001000': 2, '111100011': 2, '100011100': 2, '000101110': 1, '001011011': 1, '100000001': 3, '101100000': 1, '110001100': 3, '001110100': 1, '000010111': 2, '011000110': 1, '101000110': 2, '011111011': 1, '111011011': 2, '011101100': 4, '101111101': 1, '101101100': 1, '110011010': 3, '100111001': 3, '000110100': 3, '110010011': 1, '010011101': 3, '011010000': 1, '011100000': 3, '100001101': 4, '010000001': 2, '110010110': 3, '111100100': 1, '010001110': 1, '000110011': 2, '100101101': 1, '010000110': 1, '010011011': 3, '101001111': 1, '000111000': 2, '100100001': 2, '011010011': 3, '000100010': 4, '010001100': 2, '000101101': 1, '100001111': 2, '010000111': 1, '010110010': 1, '100110101': 3, '000100001': 3, '011000010': 2, '111110011': 2, '110011011': 2, '011000101': 1, '000110010': 4, '101010001': 3, '000111101': 2, '110001000': 2, '000010011': 1, '111001001': 1, '100100010': 1, '010111010': 2, '101100111': 2, '010000011': 2, '101010010': 2, '011000011': 2, '101101001': 3, '101111000': 2, '000011111': 1, '001010101': 1, '100010011': 3, '100000010': 1, '011100110': 1, '111101101': 2, '011100010': 1, '111010010': 2, '101111010': 2, '101000001': 1, '001111000': 3, '001000101': 3, '010100100': 1, '010000100': 5, '010111000': 1, '011011111': 3, '110011111': 1, '001110110': 2, '011001110': 1, '000100100': 1, '011000111': 1, '111010011': 1, '100110001': 1, '010101010': 1, '100000011': 1, '100111111': 1, '001101100': 1, '101011101': 2, '100011011': 3, '000011101': 3, '111101011': 1, '010010101': 1, '100100111': 2, '111010101': 1, '000001010': 1, '111000001': 2, '000011100': 1, '101010101': 1, '010001010': 3, '010010100': 2, '011011000': 1, '010111111': 1, '111010110': 1, '001010000': 1, '110010101': 2, '100000000': 2, '001001011': 1, '000100110': 1, '000110111': 1, '111000010': 1, '011110101': 1, '000111111': 1, '010101000': 1, '111100000': 2, '001111010': 1, '101000000': 1, '101101000': 2, '100000100': 1, '011011100': 2, '011011011': 2, '010011001': 1, '101000010': 1, '110000010': 2, '010100110': 2, '010010110': 1, '011111000': 2, '110001011': 1, '001101000': 2, '000010110': 1, '000111100': 1, '001011001': 1, '010010001': 1, '111111011': 1, '100000110': 1, '011101110': 1, '100110011': 1, '011101101': 2, '000010001': 1, '111111110': 1}\n",
      "Partial output of the executing using parsed_counts:  [{'x': 1, 'y': 28}: 6, {'x': 0, 'y': 37}: 6, {'x': 0, 'y': 3}: 6, {'x': 3, 'y': 47}: 6, {'x': 1, 'y': 6}: 6, {'x': 3, 'y': 13}: 6, {'x': 1, 'y': 21}: 6, {'x': 5, 'y': 39}: 6, {'x': 0, 'y': 52}: 6, {'x': 3, 'y': 28}: 5]\n"
     ]
    }
   ],
   "source": [
    "print(\n",
    "    \"Output of the execution using counts: \",\n",
    "    results.counts,\n",
    ")\n",
    "\n",
    "print(\n",
    "    \"Partial output of the execution using parsed_counts: \",\n",
    "    results.parsed_counts[:10],\n",
    ")"
   ]
  },
  {
   "cell_type": "markdown",
   "id": "20de5395",
   "metadata": {},
   "source": [
    "When executing on hardware, it is often necessary to wait while your job is pending, i.e., wait for the other jobs scheduled to be executed on that machine to finish, before running yours. For this case, it is important to submit an execution job so its possible to retrieve it later. For this end, instead of using `sample`, one can use `submit_sample`:"
   ]
  },
  {
   "cell_type": "code",
   "execution_count": 21,
   "id": "2bdea8e2",
   "metadata": {},
   "outputs": [],
   "source": [
    "with ExecutionSession(qprog) as es:\n",
    "    results = es.submit_sample()\n",
    "    job_ID = results.id"
   ]
  },
  {
   "cell_type": "markdown",
   "id": "2090f4c3",
   "metadata": {},
   "source": [
    "Once you have a job ID, it is possible to retrieve its execution data using `ExecutionJob`:"
   ]
  },
  {
   "cell_type": "code",
   "execution_count": null,
   "id": "970fbf25",
   "metadata": {},
   "outputs": [
    {
     "name": "stdout",
     "output_type": "stream",
     "text": [
      "Output of the retrieved job using counts:  {'111101100': 3, '001010010': 3, '111001101': 1, '011100111': 3, '101100100': 4, '110011001': 2, '101000100': 6, '001010001': 7, '001101110': 5, '010000011': 2, '110010110': 1, '000001101': 3, '100100110': 4, '100010010': 1, '110001000': 3, '001110001': 5, '110111010': 2, '100111110': 3, '010110001': 3, '110101101': 1, '001010100': 4, '010100101': 3, '111011100': 3, '100111111': 4, '100110010': 4, '001111001': 4, '111011000': 2, '001110101': 3, '100110100': 4, '011101001': 1, '110110010': 4, '100011110': 2, '010111101': 4, '001010000': 3, '111000111': 1, '011011010': 4, '010001011': 2, '111011111': 3, '101100110': 2, '010000010': 2, '000010111': 2, '110011100': 2, '001101001': 4, '111010101': 1, '111110111': 2, '110110111': 1, '101100001': 2, '011001110': 1, '011111001': 2, '010001001': 6, '011100001': 4, '011110100': 4, '001001011': 2, '011010101': 3, '000000111': 3, '001111000': 4, '011111100': 4, '100111001': 4, '100100000': 2, '101110010': 3, '111001010': 3, '110001100': 2, '100100010': 3, '000100011': 3, '100100011': 4, '110010011': 3, '001111110': 1, '110010000': 3, '010010010': 3, '001000100': 2, '110011011': 5, '100000101': 3, '111111000': 1, '100110000': 3, '110100101': 3, '011111101': 2, '000001010': 3, '110101000': 4, '000001001': 3, '111010111': 1, '010010100': 4, '000110101': 6, '011100010': 2, '111000011': 1, '010100001': 2, '100010101': 3, '100001010': 2, '010101010': 4, '100101100': 5, '001101111': 1, '010000100': 1, '101010000': 4, '101000101': 2, '101110101': 3, '000001100': 5, '011010011': 1, '100110001': 3, '101010111': 1, '101011001': 2, '000000000': 2, '101000001': 3, '110000001': 2, '010010111': 2, '111111011': 3, '010101000': 5, '011000000': 2, '111011101': 3, '000100101': 4, '000100000': 2, '101101001': 5, '010101101': 4, '110100010': 2, '011110001': 3, '001101100': 5, '101001100': 3, '010110010': 3, '001110100': 4, '000111000': 4, '100100101': 2, '000101000': 1, '111111100': 3, '100001000': 3, '100101001': 3, '010011101': 1, '000100001': 5, '000110010': 4, '010001100': 2, '010000000': 2, '011010000': 3, '111100000': 4, '101111000': 2, '100011111': 1, '100010000': 1, '010010101': 5, '110001101': 3, '011010010': 2, '011010100': 3, '110111000': 2, '011001100': 3, '100100100': 3, '111101001': 3, '101100011': 3, '100001100': 1, '011101011': 1, '111101010': 3, '001010111': 4, '001011110': 1, '011110010': 3, '100101101': 4, '000010001': 2, '011011111': 4, '010100011': 1, '110010001': 4, '110011000': 1, '010001010': 1, '111000101': 3, '111100111': 1, '011100000': 2, '001100001': 6, '111110001': 3, '111110000': 2, '011110110': 2, '110100100': 5, '001001010': 3, '001001001': 1, '000010010': 1, '111000010': 3, '010111011': 2, '010000001': 5, '100000100': 3, '000001000': 2, '101011000': 2, '011011011': 1, '110011101': 3, '010110100': 2, '011001010': 1, '001010011': 3, '100001101': 3, '000110000': 5, '010000110': 3, '111001011': 4, '101110001': 4, '000011110': 4, '101110110': 2, '011100011': 2, '110011110': 2, '001000110': 1, '101111111': 4, '000110110': 2, '111000100': 4, '100000001': 3, '101111010': 1, '101011110': 3, '000101010': 2, '010100000': 3, '100011001': 6, '010010000': 1, '111001001': 2, '010011111': 1, '001000010': 2, '010111111': 2, '011110111': 3, '110001111': 2, '010110000': 1, '000111001': 3, '001011111': 3, '100100001': 3, '001000000': 1, '101111100': 1, '010011110': 1, '110000101': 2, '010111000': 2, '010101100': 5, '110101011': 1, '000111100': 1, '111101101': 3, '001111010': 2, '011101101': 2, '100000010': 4, '101000000': 3, '010101111': 2, '100010100': 3, '010110111': 1, '010001111': 2, '100111100': 2, '011010111': 3, '101000010': 1, '011011101': 3, '000110100': 2, '010001110': 3, '110000000': 2, '100011011': 2, '110111011': 3, '000101111': 3, '110010010': 4, '101100101': 2, '000000001': 6, '100111101': 4, '110000100': 3, '100001011': 2, '110110110': 2, '001000101': 1, '001100100': 3, '110000111': 1, '011000100': 2, '111111101': 2, '001100110': 1, '100000000': 3, '000111010': 1, '011101000': 5, '100110101': 5, '010010001': 1, '010101001': 4, '010011000': 2, '110110001': 3, '101001000': 3, '100101110': 1, '010110101': 2, '000111111': 1, '000010101': 2, '101010100': 3, '001111101': 2, '101100010': 1, '011111010': 2, '010100100': 2, '100011010': 1, '000101001': 1, '111111001': 1, '011000010': 1, '001011101': 1, '111000000': 2, '001001100': 2, '110010100': 3, '110100000': 2, '100010011': 2, '000111101': 3, '010111010': 2, '001010101': 2, '000010100': 3, '111000110': 1, '001011001': 3, '000010011': 2, '101110100': 2, '011101100': 3, '000000010': 5, '000000100': 1, '100111010': 1, '000001110': 4, '011000101': 3, '010011011': 4, '111100011': 1, '011110000': 1, '001101101': 2, '010001101': 2, '000101110': 2, '111111111': 1, '010110011': 2, '101101010': 1, '110100111': 2, '001111100': 2, '000001011': 1, '111010001': 5, '101100000': 2, '000010000': 3, '111110011': 1, '101010001': 2, '011110101': 2, '011101010': 1, '101110000': 2, '100101111': 2, '000011001': 2, '111101011': 1, '100011101': 1, '111100100': 3, '100001001': 2, '001100101': 1, '110111110': 4, '011010110': 3, '111010100': 3, '100000011': 1, '101111001': 3, '110111100': 1, '101001010': 1, '010000111': 2, '000101100': 1, '100101000': 2, '000011100': 3, '111010011': 2, '000000110': 1, '101110011': 1, '101011111': 4, '111100010': 1, '110110000': 3, '001000111': 1, '011111000': 3, '000100100': 1, '111101000': 2, '101110111': 1, '111001100': 2, '111101111': 1, '100111011': 2, '011011000': 2, '101101110': 1, '010000101': 1, '000110001': 2, '010100110': 1, '100000111': 2, '001100111': 1, '110101001': 1, '001110110': 2, '010011010': 1, '101100111': 2, '001110011': 1, '000101011': 2, '001001101': 1, '011000111': 2, '110010101': 2, '101101011': 1, '100011100': 3, '000011111': 2, '101001001': 1, '000000101': 2, '000100010': 2, '001100011': 1, '110001011': 2, '110101110': 1, '001100010': 1, '110100001': 1, '110001010': 1, '010011001': 4, '111001000': 1, '101010101': 1, '100000110': 1, '001010110': 1, '101101101': 1, '111110100': 2, '000110111': 2, '101000011': 2, '001101000': 1, '101101111': 3, '100111000': 1, '011011100': 1, '110110100': 2, '100101011': 1, '011000011': 1, '001011010': 2, '110110101': 1, '110111001': 2, '001001000': 1, '101010010': 2, '000110011': 1, '101111011': 2, '011000001': 2, '011001011': 2, '101011100': 2, '001000011': 1, '100011000': 1, '001110000': 1, '101111110': 1, '011001101': 1, '001101010': 1, '101011010': 2, '111101110': 1, '111111110': 1, '110001001': 1, '001100000': 2, '010100010': 2, '001011000': 1, '111100001': 1, '111000001': 1, '101101100': 1, '110100110': 1, '001000001': 1, '011001000': 1, '010010011': 1, '110000011': 1, '010111001': 1, '100001111': 1, '011111110': 1, '111010000': 1, '110010111': 1, '000011101': 2, '010111110': 1, '111011011': 1, '111010010': 1, '111011010': 1, '100010111': 1, '111001110': 1, '110011111': 1, '011100100': 1, '111111010': 1, '001011100': 1, '001001110': 1, '110000110': 1, '011110011': 1, '011100101': 1, '001111011': 2, '101011011': 1, '000011010': 1, '001101011': 1, '011000110': 1, '111110110': 1, '111011001': 1}\n",
      "Partial output of the retrieved job using parsed_counts:  [{'x': 1, 'y': 10}: 7, {'x': 4, 'y': 40}: 6, {'x': 1, 'y': 17}: 6, {'x': 5, 'y': 6}: 6, {'x': 1, 'y': 12}: 6, {'x': 1, 'y': 35}: 6, {'x': 1, 'y': 0}: 6, {'x': 6, 'y': 13}: 5, {'x': 1, 'y': 14}: 5, {'x': 3, 'y': 51}: 5]\n",
      "\n"
     ]
    }
   ],
   "source": [
    "# Retrieving its information:\n",
    "job_execution = ExecutionJob.from_id(job_ID)\n",
    "\n",
    "print(\n",
    "    \"Output of the retrieved job using counts: \",\n",
    "    job_execution.result_value().counts,\n",
    ")\n",
    "\n",
    "print(\n",
    "    \"Partial output of the retrieved job using parsed_counts: \",\n",
    "    job_execution.result_value().parsed_counts[:10],\n",
    ")"
   ]
  }
 ],
 "metadata": {
  "kernelspec": {
   "display_name": ".venv",
   "language": "python",
   "name": "python3"
  },
  "language_info": {
   "codemirror_mode": {
    "name": "ipython",
    "version": 3
   },
   "file_extension": ".py",
   "mimetype": "text/x-python",
   "name": "python",
   "nbconvert_exporter": "python",
   "pygments_lexer": "ipython3",
   "version": "3.11.9"
  }
 },
 "nbformat": 4,
 "nbformat_minor": 5
}
