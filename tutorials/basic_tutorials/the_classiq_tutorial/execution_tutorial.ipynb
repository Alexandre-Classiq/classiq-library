{
 "cells": [
  {
   "cell_type": "markdown",
   "id": "8d39a38f",
   "metadata": {},
   "source": [
    "# Execution tutorial\n",
    "\n",
    "This tutorial covers the basics of executing a quantum circuit using Classiq directly through the Python SDK. It is also possible to use the [Classiq Platform](https://platform.classiq.io) to execute quantum algorithms.\n",
    "\n",
    "For this, we will start by synthesizing the following example, from the [synthesis tutorial](https://docs.classiq.io/latest/explore/tutorials/basic_tutorials/the_classiq_tutorial/synthesis_tutorial/):"
   ]
  },
  {
   "cell_type": "code",
   "execution_count": 1,
   "id": "9cac05e4",
   "metadata": {},
   "outputs": [
    {
     "name": "stdout",
     "output_type": "stream",
     "text": [
      "Quantum program link: https://platform.classiq.io/circuit/2zrtTJ4otjZeBYHmGbzwKhSTiHX\n"
     ]
    }
   ],
   "source": [
    "from classiq import *\n",
    "\n",
    "\n",
    "@qfunc\n",
    "def main(x: Output[QNum[3]], y: Output[QNum]) -> None:\n",
    "    allocate(x)\n",
    "    hadamard_transform(x)\n",
    "    y |= x**2 + 1\n",
    "\n",
    "\n",
    "qprog = synthesize(main)\n",
    "show(qprog)"
   ]
  },
  {
   "cell_type": "markdown",
   "id": "d3d4a2ed",
   "metadata": {},
   "source": [
    "This quantum program evaluates the function $y(x) = x^2 + 1$, for all integers $x \\in [0,7]$. To execute a quantum program and save its results in the Python SDK, create an `ExecutionSession`. To sample the states using this object, one can use `sample`:"
   ]
  },
  {
   "cell_type": "code",
   "execution_count": 2,
   "id": "89266894",
   "metadata": {},
   "outputs": [],
   "source": [
    "with ExecutionSession(qprog) as es:\n",
    "    results = es.sample()"
   ]
  },
  {
   "cell_type": "markdown",
   "id": "652657e7",
   "metadata": {},
   "source": [
    "The information from the outputs of the quantum circuit can be obtained in the form of a dataframe using the `dataframe` attribute:"
   ]
  },
  {
   "cell_type": "code",
   "execution_count": 3,
   "id": "03a3703d",
   "metadata": {},
   "outputs": [
    {
     "data": {
      "text/html": [
       "<div>\n",
       "<style scoped>\n",
       "    .dataframe tbody tr th:only-of-type {\n",
       "        vertical-align: middle;\n",
       "    }\n",
       "\n",
       "    .dataframe tbody tr th {\n",
       "        vertical-align: top;\n",
       "    }\n",
       "\n",
       "    .dataframe thead th {\n",
       "        text-align: right;\n",
       "    }\n",
       "</style>\n",
       "<table border=\"1\" class=\"dataframe\">\n",
       "  <thead>\n",
       "    <tr style=\"text-align: right;\">\n",
       "      <th></th>\n",
       "      <th>x</th>\n",
       "      <th>y</th>\n",
       "      <th>count</th>\n",
       "      <th>probability</th>\n",
       "      <th>bitstring</th>\n",
       "    </tr>\n",
       "  </thead>\n",
       "  <tbody>\n",
       "    <tr>\n",
       "      <th>0</th>\n",
       "      <td>6</td>\n",
       "      <td>37</td>\n",
       "      <td>286</td>\n",
       "      <td>0.139648</td>\n",
       "      <td>100101110</td>\n",
       "    </tr>\n",
       "    <tr>\n",
       "      <th>1</th>\n",
       "      <td>4</td>\n",
       "      <td>17</td>\n",
       "      <td>283</td>\n",
       "      <td>0.138184</td>\n",
       "      <td>010001100</td>\n",
       "    </tr>\n",
       "    <tr>\n",
       "      <th>2</th>\n",
       "      <td>1</td>\n",
       "      <td>2</td>\n",
       "      <td>267</td>\n",
       "      <td>0.130371</td>\n",
       "      <td>000010001</td>\n",
       "    </tr>\n",
       "    <tr>\n",
       "      <th>3</th>\n",
       "      <td>7</td>\n",
       "      <td>50</td>\n",
       "      <td>264</td>\n",
       "      <td>0.128906</td>\n",
       "      <td>110010111</td>\n",
       "    </tr>\n",
       "    <tr>\n",
       "      <th>4</th>\n",
       "      <td>3</td>\n",
       "      <td>10</td>\n",
       "      <td>255</td>\n",
       "      <td>0.124512</td>\n",
       "      <td>001010011</td>\n",
       "    </tr>\n",
       "    <tr>\n",
       "      <th>5</th>\n",
       "      <td>0</td>\n",
       "      <td>1</td>\n",
       "      <td>254</td>\n",
       "      <td>0.124023</td>\n",
       "      <td>000001000</td>\n",
       "    </tr>\n",
       "    <tr>\n",
       "      <th>6</th>\n",
       "      <td>5</td>\n",
       "      <td>26</td>\n",
       "      <td>234</td>\n",
       "      <td>0.114258</td>\n",
       "      <td>011010101</td>\n",
       "    </tr>\n",
       "    <tr>\n",
       "      <th>7</th>\n",
       "      <td>2</td>\n",
       "      <td>5</td>\n",
       "      <td>205</td>\n",
       "      <td>0.100098</td>\n",
       "      <td>000101010</td>\n",
       "    </tr>\n",
       "  </tbody>\n",
       "</table>\n",
       "</div>"
      ],
      "text/plain": [
       "   x   y  count  probability  bitstring\n",
       "0  6  37    286     0.139648  100101110\n",
       "1  4  17    283     0.138184  010001100\n",
       "2  1   2    267     0.130371  000010001\n",
       "3  7  50    264     0.128906  110010111\n",
       "4  3  10    255     0.124512  001010011\n",
       "5  0   1    254     0.124023  000001000\n",
       "6  5  26    234     0.114258  011010101\n",
       "7  2   5    205     0.100098  000101010"
      ]
     },
     "execution_count": 3,
     "metadata": {},
     "output_type": "execute_result"
    }
   ],
   "source": [
    "results.dataframe"
   ]
  },
  {
   "cell_type": "markdown",
   "id": "e5326b2c",
   "metadata": {},
   "source": [
    "The information displayed in the dataframe are:\n",
    "\n",
    "* `counts` will output the number of counts of each state measured.\n",
    "* `bitstring` are the bitstring that represent each state measured.\n",
    "* `x` and `y` are the numerical representation of the states associated to it.\n",
    "* `probability` are the probability associated with each each state measured."
   ]
  },
  {
   "cell_type": "markdown",
   "id": "04b1866f",
   "metadata": {},
   "source": [
    "## Backend selection\n",
    "\n",
    "The backend of an execution is the hardware choice where the quantum program is executed. It can be a simulator or real hardware. To select a specific backend, it is necessary to import its correct Backend Preferences from `classiq.execution`. Check the different [Cloud Providers](https://docs.classiq.io/latest/user-guide/execution/cloud-providers/) and their backend preferences for execution.\n",
    "\n",
    "In this section we will explore two different examples for fixation: \n",
    "\n",
    "### First example: Execution using the state vector simulator from Classiq\n",
    "\n",
    "Since Classiq provides its own state vector simulator backend, we will use `ClassiqBackendPreferences` to define it as the state vector simulator. This information is provided on the [Cloud Providers page](https://docs.classiq.io/latest/user-guide/execution/cloud-providers/).\n",
    "\n",
    "To define the quantum program's execution preferences, use `execution_preferences` under `ExecutionSession`. In this example, we will perform a simulation with `num_shots=1` since the state vector simulator performs an exact simulation of the quantum program.\n",
    "\n",
    "If no backend is defined on the preferences, then the [Classiq simulator](https://docs.classiq.io/latest/user-guide/execution/cloud-providers/classiq-backends/) is selected.\n"
   ]
  },
  {
   "cell_type": "code",
   "execution_count": 4,
   "id": "894e3d8e",
   "metadata": {},
   "outputs": [],
   "source": [
    "from classiq.execution import ClassiqBackendPreferences, ExecutionPreferences\n",
    "\n",
    "backend_preferences = ClassiqBackendPreferences(\n",
    "    backend_name=\"simulator_statevector\"\n",
    ")  # Always check the Cloud Providers to correctly define the backend.\n",
    "\n",
    "execution_preferences = ExecutionPreferences(\n",
    "    num_shots=1, backend_preferences=backend_preferences\n",
    ")"
   ]
  },
  {
   "cell_type": "markdown",
   "id": "37b7f599",
   "metadata": {},
   "source": [
    "Now, execute the quantum program using `execute`."
   ]
  },
  {
   "cell_type": "code",
   "execution_count": 5,
   "id": "fe117021",
   "metadata": {},
   "outputs": [],
   "source": [
    "with ExecutionSession(qprog, execution_preferences=execution_preferences) as es:\n",
    "    results_statevector = es.sample()"
   ]
  },
  {
   "cell_type": "markdown",
   "id": "801bd912",
   "metadata": {},
   "source": [
    "The outputs of the quantum program can be obtained through the attributes `state_vector` and `parsed_state_vector` from `results.result_value()`. Below, we can see the amplitudes for the state `'x':0, 'y':1`, which can be represented by the bitstring '0000000000001000':"
   ]
  },
  {
   "cell_type": "code",
   "execution_count": 6,
   "id": "dd9b3965",
   "metadata": {},
   "outputs": [
    {
     "name": "stdout",
     "output_type": "stream",
     "text": [
      "Amplitude of the state 000001000:  (-2.5162583618884327e-15+0.3535533905932734j)\n",
      "Amplitude of the state {'x':0, 'y':1}:  (-2.5162583618884327e-15+0.3535533905932734j)\n"
     ]
    }
   ],
   "source": [
    "print(\n",
    "    \"Amplitude of the state 000001000: \",\n",
    "    results_statevector.state_vector.get(\"000001000\", None),\n",
    ")\n",
    "\n",
    "state = next(\n",
    "    (s for s in results_statevector.parsed_state_vector if s.bitstring == \"000001000\"),\n",
    "    None,\n",
    ")\n",
    "print(\"Amplitude of the state {'x':0, 'y':1}: \", state.amplitude if state else None)"
   ]
  },
  {
   "cell_type": "markdown",
   "id": "f63fc4ae",
   "metadata": {},
   "source": [
    "The outputs from the execution obtained via statevector simulator will differ from the default simulator:\n",
    "\n",
    "* `state_vector` will output a `dict` containing the bitstrings followed by its numerically evaluated amplitudes.\n",
    "* `parsed_state_vector` will output a `list` of `SimulatedState`, each containing the values of `x` and `y` followed by its bitstrings and its numerically evaluated amplitudes."
   ]
  },
  {
   "cell_type": "markdown",
   "id": "59ec6e15",
   "metadata": {},
   "source": [
    "### Second example: Execution on free access IBM Hardware"
   ]
  },
  {
   "cell_type": "markdown",
   "id": "250a2bba",
   "metadata": {},
   "source": [
    "We will now execute our quantum program on `ibm_brisbane`, a quantum computer from IBM Quantum. For this, we need to check on the [Cloud Providers page](https://docs.classiq.io/latest/user-guide/execution/cloud-providers/) for the [IBM Quantum Backends](https://docs.classiq.io/latest/user-guide/execution/cloud-providers/ibm-backends/). First, we need to do [hardware-aware synthesis](), i.e., synthesize the quantum program accordingly to the hardware that it will be executed. This can be done by specifying the backend using the `Preferences` function."
   ]
  },
  {
   "cell_type": "code",
   "execution_count": 7,
   "id": "d9e0f89d",
   "metadata": {},
   "outputs": [],
   "source": [
    "preferences = Preferences(\n",
    "    backend_service_provider=\"IBM Quantum\", backend_name=\"ibm_brisbane\"\n",
    ")\n",
    "\n",
    "qprog_IBM = synthesize(main, preferences=preferences)"
   ]
  },
  {
   "cell_type": "markdown",
   "id": "13441698",
   "metadata": {},
   "source": [
    "On the Cloud Providers page, we can see that an access token from an IBM Quantum account is required. Using this information, it is possible to set our execution preferences:"
   ]
  },
  {
   "cell_type": "code",
   "execution_count": 8,
   "id": "254382a8",
   "metadata": {},
   "outputs": [],
   "source": [
    "from classiq.execution import (\n",
    "    ExecutionPreferences,\n",
    "    IBMBackendPreferences,\n",
    "    IBMBackendProvider,\n",
    ")\n",
    "\n",
    "ibm_provider = IBMBackendProvider(hub=\"ibm-q\", group=\"open\", Project=\"main\")\n",
    "ibm_backend_preferences = IBMBackendPreferences(\n",
    "    backend_name=\"ibm_brisbane\",\n",
    "    access_token=\"your_job_id\",\n",
    "    provider=ibm_provider,\n",
    ")\n",
    "\n",
    "execution_preferences = ExecutionPreferences(\n",
    "    num_shots=1000, backend_preferences=ibm_backend_preferences\n",
    ")"
   ]
  },
  {
   "cell_type": "code",
   "execution_count": 9,
   "id": "6a5509c5",
   "metadata": {},
   "outputs": [],
   "source": [
    "# Uncomment the following line to set the execution preferences and execute the quantum program on the modified backend.\n",
    "\n",
    "# with ExecutionSession(qprog_IBM, execution_preferences) as es:\n",
    "#    results = es.sample()"
   ]
  },
  {
   "cell_type": "markdown",
   "id": "ce0e027a",
   "metadata": {},
   "source": [
    "Its outputs will formatted in the same way of the outputs of the Classiq simulator. Due to the depth of this circuit, current quantum hardware is not yet capable of producing output with reasonable accuracy, so we have decided not to display it here."
   ]
  },
  {
   "cell_type": "markdown",
   "id": "20de5395",
   "metadata": {},
   "source": [
    "When executing on hardware, it is often necessary to wait while your job is pending, i.e., wait for the other jobs scheduled to be executed on that machine to finish before running yours. However, if you don’t want your Python script to be blocked during this time, or if you want to store the job ID to retrieve the job later, allowing even the access of the results from different machines, by using `submit_sample` instead of `sample`."
   ]
  },
  {
   "cell_type": "code",
   "execution_count": 10,
   "id": "2bdea8e2",
   "metadata": {},
   "outputs": [],
   "source": [
    "with ExecutionSession(qprog) as es:\n",
    "    results = es.submit_sample()\n",
    "    job_ID = results.id"
   ]
  },
  {
   "cell_type": "markdown",
   "id": "2090f4c3",
   "metadata": {},
   "source": [
    "Once you have a job ID, it is possible to retrieve its execution data using `ExecutionJob`:"
   ]
  },
  {
   "cell_type": "code",
   "execution_count": null,
   "id": "970fbf25",
   "metadata": {},
   "outputs": [],
   "source": [
    "# Retrieving its information:\n",
    "job_execution = ExecutionJob.from_id(job_ID)"
   ]
  }
 ],
 "metadata": {
  "kernelspec": {
   "display_name": ".venv",
   "language": "python",
   "name": "python3"
  },
  "language_info": {
   "codemirror_mode": {
    "name": "ipython",
    "version": 3
   },
   "file_extension": ".py",
   "mimetype": "text/x-python",
   "name": "python",
   "nbconvert_exporter": "python",
   "pygments_lexer": "ipython3",
   "version": "3.11.9"
  }
 },
 "nbformat": 4,
 "nbformat_minor": 5
}
